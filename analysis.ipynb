{
 "cells": [
  {
   "cell_type": "markdown",
   "metadata": {},
   "source": [
    "# Laboratorio 5\n",
    "## Análisis de Tráfico\n",
    "Implementación de un IDS\n",
    "> #### Gerardo Méndez 18239"
   ]
  },
  {
   "cell_type": "code",
   "execution_count": 1,
   "metadata": {
    "id": "8TrBXp14pv54"
   },
   "outputs": [],
   "source": [
    "# network\n",
    "from scapy.all import *\n",
    "\n",
    "# math\n",
    "import numpy as np\n",
    "import pandas as pd\n",
    "import seaborn as sns\n",
    "\n",
    "# binary to ascii\n",
    "import binascii\n",
    "\n",
    "# graphs\n",
    "sns.set(color_codes=True)\n",
    "%matplotlib inline"
   ]
  },
  {
   "cell_type": "markdown",
   "metadata": {},
   "source": [
    "## PARTE 1"
   ]
  },
  {
   "cell_type": "markdown",
   "metadata": {
    "id": "Z-HBMA7ep50R"
   },
   "source": [
    "### Captura de 100 paquetes"
   ]
  },
  {
   "cell_type": "code",
   "execution_count": 2,
   "metadata": {
    "colab": {
     "base_uri": "https://localhost:8080/"
    },
    "id": "CFGBX16-p0SZ",
    "outputId": "3b196156-2772-41e5-e478-b37e6c5cd99f"
   },
   "outputs": [
    {
     "name": "stdout",
     "output_type": "stream",
     "text": [
      "<class 'scapy.plist.PacketList'>\n",
      "100\n",
      "<Sniffed: TCP:25 UDP:49 ICMP:0 Other:26>\n"
     ]
    },
    {
     "data": {
      "text/plain": [
       "<Ether  dst=33:33:00:00:00:16 src=bc:a8:a6:dd:27:f0 type=IPv6 |<IPv6  version=6 tc=0 fl=0 plen=36 nh=Hop-by-Hop Option Header hlim=1 src=fe80::1de9:8dff:d1c9:ec52 dst=ff02::16 |<IPv6ExtHdrHopByHop  nh=ICMPv6 len=0 autopad=On options=[<RouterAlert  otype=Router Alert [00: skip, 0: Don't change en-route] optlen=2 value=Datagram contains a MLD message |>, <PadN  otype=PadN [00: skip, 0: Don't change en-route] optlen=0 |>] |<ICMPv6MLReport2  type=MLD Report Version 2 res=0 cksum=0x7fa reserved=0 records_number=1 records=[<ICMPv6MLDMultAddrRec  rtype=2 auxdata_len=0 sources_number=0 dst=ff02::c |>] |>>>>"
      ]
     },
     "execution_count": 2,
     "metadata": {},
     "output_type": "execute_result"
    }
   ],
   "source": [
    "num_of_packets_to_sniff = 100\n",
    "pcap = sniff(count=num_of_packets_to_sniff)\n",
    "\n",
    "print(type(pcap))\n",
    "print(len(pcap))\n",
    "print(pcap)\n",
    "pcap[0]"
   ]
  },
  {
   "cell_type": "markdown",
   "metadata": {},
   "source": [
    "### Lectura de archivo PCAP"
   ]
  },
  {
   "cell_type": "code",
   "execution_count": 3,
   "metadata": {},
   "outputs": [
    {
     "name": "stdout",
     "output_type": "stream",
     "text": [
      "<class 'scapy.plist.PacketList'>\n",
      "62\n",
      "<analisis_paquetes.pcap: TCP:0 UDP:62 ICMP:0 Other:0>\n"
     ]
    },
    {
     "data": {
      "text/plain": [
       "<Ether  dst=88:e9:fe:6a:92:52 src=80:37:73:96:9b:db type=IPv4 |<IP  version=4 ihl=5 tos=0x20 len=84 id=58919 flags= frag=0 ttl=122 proto=udp chksum=0x360c src=84.54.22.33 dst=10.1.10.53 |<UDP  sport=domain dport=domain len=64 chksum=0xfe25 |<DNS  id=12 qr=1 opcode=QUERY aa=0 tc=0 rd=1 ra=1 z=0 ad=0 cd=0 rcode=ok qdcount=1 ancount=1 nscount=0 arcount=0 qd=<DNSQR  qname='google.com.' qtype=AAAA qclass=IN |> an=<DNSRR  rrname='google.com.' type=AAAA rclass=IN ttl=299 rdlen=None rdata=2607:f8b0:4005:807::200e |> ns=None ar=None |>>>>"
      ]
     },
     "execution_count": 3,
     "metadata": {},
     "output_type": "execute_result"
    }
   ],
   "source": [
    "## leemos el archivo pcap\n",
    "file = rdpcap(\"analisis_paquetes.pcap\")\n",
    "\n",
    "print(type(file))\n",
    "print(len(file))\n",
    "print(file)\n",
    "file[1]"
   ]
  },
  {
   "cell_type": "code",
   "execution_count": 4,
   "metadata": {},
   "outputs": [
    {
     "name": "stdout",
     "output_type": "stream",
     "text": [
      "<class 'scapy.plist.PacketList'>\n",
      "162\n",
      "<Sniffed+analisis_paquetes.pcap: TCP:25 UDP:111 ICMP:0 Other:26>\n"
     ]
    },
    {
     "data": {
      "text/plain": [
       "<Ether  dst=bc:a8:a6:dd:27:f0 src=74:3a:ef:4a:63:8f type=IPv4 |<IP  version=4 ihl=5 tos=0x0 len=367 id=14271 flags= frag=0 ttl=4 proto=udp chksum=0xcc1b src=192.168.1.1 dst=239.255.255.250 |<UDP  sport=ssdp dport=ssdp len=347 chksum=0x5557 |<Raw  load='NOTIFY * HTTP/1.1\\r\\nHost: 239.255.255.250:1900\\r\\nCache-Control: max-age=30\\r\\nLocation: http://192.168.1.1:1990/WFADevice.xml\\r\\nNTS: ssdp:alive\\r\\nServer: POSIX, UPnP/1.0 UPnP Stack/7.14.89.21\\r\\nNT: urn:schemas-wifialliance-org:device:WFADevice:1\\r\\nUSN: uuid:f9be910c-ed5d-fb17-e9b7-294f903714ba::urn:schemas-wifialliance-org:device:WFADevice:1\\r\\n\\r\\n' |>>>>"
      ]
     },
     "execution_count": 4,
     "metadata": {},
     "output_type": "execute_result"
    }
   ],
   "source": [
    "## juntamos ambas listas\n",
    "final_pcap = pcap + file\n",
    "print(type(final_pcap))\n",
    "print(len(final_pcap))\n",
    "print(final_pcap)\n",
    "final_pcap[1]"
   ]
  },
  {
   "cell_type": "markdown",
   "metadata": {},
   "source": [
    "### PCAP a DataFrame"
   ]
  },
  {
   "cell_type": "markdown",
   "metadata": {
    "id": "tcOQYhxiqy7L"
   },
   "source": [
    "#### Exploración"
   ]
  },
  {
   "cell_type": "code",
   "execution_count": 5,
   "metadata": {
    "colab": {
     "base_uri": "https://localhost:8080/"
    },
    "id": "6V_p1aruq4d4",
    "outputId": "f03f1417-7015-469d-b69c-783411437201"
   },
   "outputs": [
    {
     "name": "stdout",
     "output_type": "stream",
     "text": [
      "Informacion del frame:\n",
      "Ether / fe80::1de9:8dff:d1c9:ec52 > ff02::16 (0) / IPv6ExtHdrHopByHop / ICMPv6MLReport2\n",
      "Informacion del paquete:\n",
      "fe80::1de9:8dff:d1c9:ec52 > ff02::16 (0) / IPv6ExtHdrHopByHop / ICMPv6MLReport2\n",
      "Informacion del segmento:\n",
      "IPv6ExtHdrHopByHop / ICMPv6MLReport2\n",
      "Data:\n",
      "ICMPv6MLReport2\n",
      "###[ Ethernet ]### \n",
      "  dst       = 33:33:00:00:00:16\n",
      "  src       = bc:a8:a6:dd:27:f0\n",
      "  type      = IPv6\n",
      "###[ IPv6 ]### \n",
      "     version   = 6\n",
      "     tc        = 0\n",
      "     fl        = 0\n",
      "     plen      = 36\n",
      "     nh        = Hop-by-Hop Option Header\n",
      "     hlim      = 1\n",
      "     src       = fe80::1de9:8dff:d1c9:ec52\n",
      "     dst       = ff02::16\n",
      "###[ IPv6 Extension Header - Hop-by-Hop Options Header ]### \n",
      "        nh        = ICMPv6\n",
      "        len       = 0\n",
      "        autopad   = On\n",
      "        \\options   \\\n",
      "         |###[ Router Alert ]### \n",
      "         |  otype     = Router Alert [00: skip, 0: Don't change en-route]\n",
      "         |  optlen    = 2\n",
      "         |  value     = Datagram contains a MLD message\n",
      "         |###[ PadN ]### \n",
      "         |  otype     = PadN [00: skip, 0: Don't change en-route]\n",
      "         |  optlen    = 0\n",
      "         |  optdata   = ''\n",
      "###[ MLDv2 - Multicast Listener Report ]### \n",
      "           type      = MLD Report Version 2\n",
      "           res       = 0\n",
      "           cksum     = 0x7fa\n",
      "           reserved  = 0\n",
      "           records_number= 1\n",
      "           \\records   \\\n",
      "            |###[ ICMPv6 MLDv2 - Multicast Address Record ]### \n",
      "            |  rtype     = 2\n",
      "            |  auxdata_len= 0\n",
      "            |  sources_number= 0\n",
      "            |  dst       = ff02::c\n",
      "            |  sources   = [  ]\n",
      "            |  auxdata   = ''\n",
      "\n",
      "###[ MLDv2 - Multicast Listener Report ]### \n",
      "  type      = MLD Report Version 2\n",
      "  res       = 0\n",
      "  cksum     = 0x7fa\n",
      "  reserved  = 0\n",
      "  records_number= 1\n",
      "  \\records   \\\n",
      "   |###[ ICMPv6 MLDv2 - Multicast Address Record ]### \n",
      "   |  rtype     = 2\n",
      "   |  auxdata_len= 0\n",
      "   |  sources_number= 0\n",
      "   |  dst       = ff02::c\n",
      "   |  sources   = [  ]\n",
      "   |  auxdata   = ''\n",
      "\n"
     ]
    }
   ],
   "source": [
    "#Recordemos que en los modelos de red, las capas inferiores encapsulan la información de las capas superiores\n",
    "#Frames en paquetes, paquetes en segmentos (Ethernet, IP), modelo TCP/IP\n",
    "\n",
    "ethernet_frame = final_pcap[0]\n",
    "ip_packet = ethernet_frame.payload\n",
    "segment = ip_packet.payload\n",
    "data = segment.payload #recupera la informacion de la capa 4\n",
    "\n",
    "print(\"Informacion del frame:\")\n",
    "print(ethernet_frame.summary())\n",
    "\n",
    "print(\"Informacion del paquete:\")\n",
    "print(ip_packet.summary())\n",
    "\n",
    "print(\"Informacion del segmento:\")\n",
    "print(segment.summary())\n",
    "\n",
    "print(\"Data:\")\n",
    "print(data.summary())\n",
    "\n",
    "ethernet_frame.show()\n",
    "data.show()"
   ]
  },
  {
   "cell_type": "markdown",
   "metadata": {
    "id": "B7VfYOxJsq1Y"
   },
   "source": [
    "#### Tipos de datos"
   ]
  },
  {
   "cell_type": "code",
   "execution_count": 6,
   "metadata": {
    "colab": {
     "base_uri": "https://localhost:8080/"
    },
    "id": "ll1ixX5KspSd",
    "outputId": "9d46481b-4b37-4c66-b69a-7e28921017f0"
   },
   "outputs": [
    {
     "name": "stdout",
     "output_type": "stream",
     "text": [
      "<class 'scapy.layers.l2.Ether'>\n",
      "<class 'scapy.layers.inet6.IPv6'>\n",
      "<class 'scapy.layers.inet6.IPv6ExtHdrHopByHop'>\n",
      "Ethernet <Ether from Sniffed+analisis_paquetes.pcap: TCP:25 UDP:111 ICMP:0 Other:26>\n",
      "IP <IPv6 from Sniffed+analisis_paquetes.pcap: TCP:0 UDP:14 ICMP:0 Other:12>\n",
      "TCP <IPv6ExtHdrHopByHop from Sniffed+analisis_paquetes.pcap: TCP:0 UDP:0 ICMP:0 Other:5>\n",
      "UDP <UDP from Sniffed+analisis_paquetes.pcap: TCP:0 UDP:111 ICMP:0 Other:0>\n"
     ]
    }
   ],
   "source": [
    "print(type(ethernet_frame))\n",
    "print(type(ip_packet))\n",
    "print(type(segment))\n",
    "\n",
    "# Packets can be filtered on layers ie) ethernet_frame[scapy.layers.l2.Ether]\n",
    "ethernet_type = type(ethernet_frame)\n",
    "ip_type = type(ip_packet)\n",
    "tcp_type = type(segment)\n",
    "print(\"Ethernet\", final_pcap[ethernet_type])\n",
    "print(\"IP\", final_pcap[ip_type])\n",
    "print(\"TCP\", final_pcap[tcp_type])\n",
    "\n",
    "# Scapy provides this via import statements\n",
    "from scapy.layers.l2 import Ether\n",
    "from scapy.layers.inet import IP\n",
    "from scapy.layers.inet import TCP, UDP\n",
    "\n",
    "print(\"UDP\", final_pcap[UDP])"
   ]
  },
  {
   "cell_type": "markdown",
   "metadata": {
    "id": "ioVnNkvRthYL"
   },
   "source": [
    "#### Conversion de PCAP a DF"
   ]
  },
  {
   "cell_type": "code",
   "execution_count": 7,
   "metadata": {
    "colab": {
     "base_uri": "https://localhost:8080/"
    },
    "id": "H50zKfyhtkck",
    "outputId": "135dd4af-36b9-4e0a-df68-6e0f8a2dc9c9"
   },
   "outputs": [
    {
     "name": "stdout",
     "output_type": "stream",
     "text": [
      "  version ihl tos  len     id flags frag ttl proto chksum  ... dataofs  \\\n",
      "0       4   5   0  367  14271          0   4    17  52251  ...    None   \n",
      "1       4   5   0  312  14272          0   4    17  52305  ...    None   \n",
      "2       4   5   0  303  14273          0   4    17  52313  ...    None   \n",
      "3       4   5   0  377  14274          0   4    17  52238  ...    None   \n",
      "4       4   5   0   42  57833          0   1    17   5675  ...    None   \n",
      "\n",
      "  reserved flags window chksum urgptr options payload  \\\n",
      "0     None  None   None  21847   None    None     339   \n",
      "1     None  None   None  30546   None    None     284   \n",
      "2     None  None   None  43563   None    None     275   \n",
      "3     None  None   None   7685   None    None     349   \n",
      "4     None  None   None  24270   None    None      14   \n",
      "\n",
      "                                         payload_raw  \\\n",
      "0  b'NOTIFY * HTTP/1.1\\r\\nHost: 239.255.255.250:1...   \n",
      "1  b'NOTIFY * HTTP/1.1\\r\\nHost: 239.255.255.250:1...   \n",
      "2  b'NOTIFY * HTTP/1.1\\r\\nHost: 239.255.255.250:1...   \n",
      "3  b'NOTIFY * HTTP/1.1\\r\\nHost: 239.255.255.250:1...   \n",
      "4          b'EPSONP\\x00\\xff\\x00\\x00\\x00\\x00\\x00\\x00'   \n",
      "\n",
      "                                         payload_hex  \n",
      "0  b'4e4f54494659202a20485454502f312e310d0a486f73...  \n",
      "1  b'4e4f54494659202a20485454502f312e310d0a486f73...  \n",
      "2  b'4e4f54494659202a20485454502f312e310d0a486f73...  \n",
      "3  b'4e4f54494659202a20485454502f312e310d0a486f73...  \n",
      "4                    b'4550534f4e5000ff000000000000'  \n",
      "\n",
      "[5 rows x 28 columns]\n"
     ]
    }
   ],
   "source": [
    "ip_fields = [field.name for field in IP().fields_desc]\n",
    "tcp_fields = [field.name for field in TCP().fields_desc]\n",
    "udp_fields = [field.name for field in UDP().fields_desc]\n",
    "\n",
    "dataframe_fields = ip_fields + ['time'] + tcp_fields + ['payload','payload_raw','payload_hex']\n",
    "\n",
    "df = pd.DataFrame(columns=dataframe_fields)\n",
    "\n",
    "for packet in final_pcap[IP]:\n",
    "    # Obtenemos los valores de los campos de cada fila\n",
    "    field_values = []\n",
    "    # A;adimos todos los valores de los campos de IP al df\n",
    "    for field in ip_fields:\n",
    "        if field == 'options':\n",
    "            # Obtenemos el numero de opciones del IP Header\n",
    "            field_values.append(len(packet[IP].fields[field]))\n",
    "        else:\n",
    "            field_values.append(packet[IP].fields[field])\n",
    "    \n",
    "    field_values.append(packet.time)\n",
    "    \n",
    "    layer_type = type(packet[IP].payload)\n",
    "    for field in tcp_fields:\n",
    "        try:\n",
    "            if field == 'options':\n",
    "                field_values.append(len(packet[layer_type].fields[field]))\n",
    "            else:\n",
    "                field_values.append(packet[layer_type].fields[field])\n",
    "        except:\n",
    "            field_values.append(None)\n",
    "    \n",
    "    # Agregamos el payload\n",
    "    field_values.append(len(packet[layer_type].payload))\n",
    "    field_values.append(packet[layer_type].payload.original)\n",
    "    field_values.append(binascii.hexlify(packet[layer_type].payload.original))\n",
    "    # Agregamos la fila al df\n",
    "    df_append = pd.DataFrame([field_values], columns=dataframe_fields)\n",
    "    df = pd.concat([df, df_append], axis=0)\n",
    "\n",
    "# Reset Index\n",
    "df = df.reset_index()\n",
    "# Drop old index column\n",
    "df = df.drop(columns=\"index\")\n",
    "\n",
    "print(df.head(5))"
   ]
  },
  {
   "cell_type": "code",
   "execution_count": 8,
   "metadata": {},
   "outputs": [
    {
     "data": {
      "text/plain": [
       "122"
      ]
     },
     "execution_count": 8,
     "metadata": {},
     "output_type": "execute_result"
    }
   ],
   "source": [
    "## tamaño del dataframe\n",
    "len(df)"
   ]
  },
  {
   "cell_type": "markdown",
   "metadata": {},
   "source": [
    "### SRC, DST, SPORT, DPORT"
   ]
  },
  {
   "cell_type": "code",
   "execution_count": 9,
   "metadata": {
    "colab": {
     "base_uri": "https://localhost:8080/",
     "height": 363
    },
    "id": "LqqOTjHmzcpJ",
    "outputId": "f424cc4c-df1b-4820-a285-4ca749ed1e0e"
   },
   "outputs": [
    {
     "data": {
      "text/html": [
       "<div>\n",
       "<style scoped>\n",
       "    .dataframe tbody tr th:only-of-type {\n",
       "        vertical-align: middle;\n",
       "    }\n",
       "\n",
       "    .dataframe tbody tr th {\n",
       "        vertical-align: top;\n",
       "    }\n",
       "\n",
       "    .dataframe thead th {\n",
       "        text-align: right;\n",
       "    }\n",
       "</style>\n",
       "<table border=\"1\" class=\"dataframe\">\n",
       "  <thead>\n",
       "    <tr style=\"text-align: right;\">\n",
       "      <th></th>\n",
       "      <th>src</th>\n",
       "      <th>dst</th>\n",
       "      <th>sport</th>\n",
       "      <th>dport</th>\n",
       "    </tr>\n",
       "  </thead>\n",
       "  <tbody>\n",
       "    <tr>\n",
       "      <th>0</th>\n",
       "      <td>192.168.1.1</td>\n",
       "      <td>239.255.255.250</td>\n",
       "      <td>1900</td>\n",
       "      <td>1900</td>\n",
       "    </tr>\n",
       "    <tr>\n",
       "      <th>1</th>\n",
       "      <td>192.168.1.1</td>\n",
       "      <td>239.255.255.250</td>\n",
       "      <td>1900</td>\n",
       "      <td>1900</td>\n",
       "    </tr>\n",
       "    <tr>\n",
       "      <th>2</th>\n",
       "      <td>192.168.1.1</td>\n",
       "      <td>239.255.255.250</td>\n",
       "      <td>1900</td>\n",
       "      <td>1900</td>\n",
       "    </tr>\n",
       "    <tr>\n",
       "      <th>3</th>\n",
       "      <td>192.168.1.1</td>\n",
       "      <td>239.255.255.250</td>\n",
       "      <td>1900</td>\n",
       "      <td>1900</td>\n",
       "    </tr>\n",
       "    <tr>\n",
       "      <th>4</th>\n",
       "      <td>192.168.1.7</td>\n",
       "      <td>255.255.255.255</td>\n",
       "      <td>60028</td>\n",
       "      <td>3289</td>\n",
       "    </tr>\n",
       "    <tr>\n",
       "      <th>...</th>\n",
       "      <td>...</td>\n",
       "      <td>...</td>\n",
       "      <td>...</td>\n",
       "      <td>...</td>\n",
       "    </tr>\n",
       "    <tr>\n",
       "      <th>117</th>\n",
       "      <td>84.54.22.33</td>\n",
       "      <td>10.1.10.53</td>\n",
       "      <td>53</td>\n",
       "      <td>53</td>\n",
       "    </tr>\n",
       "    <tr>\n",
       "      <th>118</th>\n",
       "      <td>10.1.10.53</td>\n",
       "      <td>84.54.22.33</td>\n",
       "      <td>53</td>\n",
       "      <td>53</td>\n",
       "    </tr>\n",
       "    <tr>\n",
       "      <th>119</th>\n",
       "      <td>84.54.22.33</td>\n",
       "      <td>10.1.10.53</td>\n",
       "      <td>53</td>\n",
       "      <td>53</td>\n",
       "    </tr>\n",
       "    <tr>\n",
       "      <th>120</th>\n",
       "      <td>10.1.10.53</td>\n",
       "      <td>84.54.22.33</td>\n",
       "      <td>53</td>\n",
       "      <td>53</td>\n",
       "    </tr>\n",
       "    <tr>\n",
       "      <th>121</th>\n",
       "      <td>84.54.22.33</td>\n",
       "      <td>10.1.10.53</td>\n",
       "      <td>53</td>\n",
       "      <td>53</td>\n",
       "    </tr>\n",
       "  </tbody>\n",
       "</table>\n",
       "<p>122 rows × 4 columns</p>\n",
       "</div>"
      ],
      "text/plain": [
       "             src              dst  sport dport\n",
       "0    192.168.1.1  239.255.255.250   1900  1900\n",
       "1    192.168.1.1  239.255.255.250   1900  1900\n",
       "2    192.168.1.1  239.255.255.250   1900  1900\n",
       "3    192.168.1.1  239.255.255.250   1900  1900\n",
       "4    192.168.1.7  255.255.255.255  60028  3289\n",
       "..           ...              ...    ...   ...\n",
       "117  84.54.22.33       10.1.10.53     53    53\n",
       "118   10.1.10.53      84.54.22.33     53    53\n",
       "119  84.54.22.33       10.1.10.53     53    53\n",
       "120   10.1.10.53      84.54.22.33     53    53\n",
       "121  84.54.22.33       10.1.10.53     53    53\n",
       "\n",
       "[122 rows x 4 columns]"
      ]
     },
     "execution_count": 9,
     "metadata": {},
     "output_type": "execute_result"
    }
   ],
   "source": [
    "# Return Src Address, Dst Address, Src Port, Dst Port\n",
    "df[['src','dst','sport','dport']]"
   ]
  },
  {
   "cell_type": "code",
   "execution_count": 10,
   "metadata": {},
   "outputs": [
    {
     "data": {
      "text/plain": [
       "src             dst              sport  dport\n",
       "84.54.22.33     10.1.10.53       53     53       29\n",
       "10.1.10.53      84.54.22.33      53     53       29\n",
       "192.168.1.18    224.0.0.251      5353   5353     11\n",
       "192.168.1.8     239.255.255.250  1933   1933      9\n",
       "192.168.1.1     239.255.255.250  1900   1900      8\n",
       "192.168.1.7     17.57.144.154    2728   5223      8\n",
       "192.168.1.3     239.255.255.250  36485  1900      5\n",
       "77.234.44.84    192.168.1.7      80     1811      4\n",
       "140.82.112.26   192.168.1.7      443    2759      3\n",
       "192.168.1.7     77.234.44.84     1811   80        3\n",
       "                140.82.112.26    2759   443       2\n",
       "                52.226.139.185   1764   443       2\n",
       "75.75.75.75     10.1.10.53       53     23903     1\n",
       "                                        15812     1\n",
       "52.226.139.185  192.168.1.7      443    1764      1\n",
       "10.1.10.53      75.75.75.75      15812  53        1\n",
       "192.168.1.7     255.255.255.255  60028  3289      1\n",
       "10.1.10.53      75.75.75.75      23903  53        1\n",
       "192.168.1.18    239.255.255.250  58311  1900      1\n",
       "140.82.114.6    192.168.1.7      443    2924      1\n",
       "192.168.1.7     140.82.114.6     2924   443       1\n",
       "dtype: int64"
      ]
     },
     "execution_count": 10,
     "metadata": {},
     "output_type": "execute_result"
    }
   ],
   "source": [
    "df[['src','dst','sport','dport']].value_counts()"
   ]
  },
  {
   "cell_type": "markdown",
   "metadata": {},
   "source": [
    "### Estadisticas"
   ]
  },
  {
   "cell_type": "markdown",
   "metadata": {},
   "source": [
    "##### IP salida más frecuente"
   ]
  },
  {
   "cell_type": "code",
   "execution_count": 11,
   "metadata": {
    "colab": {
     "base_uri": "https://localhost:8080/"
    },
    "id": "rG6Pfp_VzfUe",
    "outputId": "709af016-65bc-496b-8fa1-334a46830c12"
   },
   "outputs": [
    {
     "name": "stdout",
     "output_type": "stream",
     "text": [
      "IP OUT MÁS FRECUENTE\n",
      "count            122\n",
      "unique            12\n",
      "top       10.1.10.53\n",
      "freq              31\n",
      "Name: src, dtype: object \n",
      "\n",
      "\n"
     ]
    }
   ],
   "source": [
    "print(\"IP OUT MÁS FRECUENTE\")\n",
    "print(df['src'].describe(),'\\n\\n')"
   ]
  },
  {
   "cell_type": "markdown",
   "metadata": {},
   "source": [
    "##### IP entrada más frecuente"
   ]
  },
  {
   "cell_type": "code",
   "execution_count": 12,
   "metadata": {},
   "outputs": [
    {
     "name": "stdout",
     "output_type": "stream",
     "text": [
      "IP IN MÁS FRECUENTE\n",
      "count            122\n",
      "unique            12\n",
      "top       10.1.10.53\n",
      "freq              31\n",
      "Name: dst, dtype: object \n",
      "\n",
      "\n"
     ]
    }
   ],
   "source": [
    "print(\"IP IN MÁS FRECUENTE\")\n",
    "print(df['dst'].describe(),'\\n\\n')"
   ]
  },
  {
   "cell_type": "markdown",
   "metadata": {},
   "source": [
    "##### IPs frecuentes para IP a"
   ]
  },
  {
   "cell_type": "code",
   "execution_count": 13,
   "metadata": {
    "colab": {
     "base_uri": "https://localhost:8080/"
    },
    "id": "e1kc8Mzf_uZl",
    "outputId": "9b0400e0-be07-4951-dcae-23531167651e"
   },
   "outputs": [
    {
     "name": "stdout",
     "output_type": "stream",
     "text": [
      "SE COMUNICA FRECUENTEMENTE CON: \n",
      "  ->  84.54.22.33\n",
      "  ->  75.75.75.75\n"
     ]
    }
   ],
   "source": [
    "frequent_address = df['src'].describe()['top']\n",
    "\n",
    "\n",
    "print(\"SE COMUNICA FRECUENTEMENTE CON: \")\n",
    "for add in df[df['src'] == frequent_address]['dst'].unique():\n",
    "    print(\"  -> \", add)"
   ]
  },
  {
   "cell_type": "markdown",
   "metadata": {},
   "source": [
    "##### Puertos de entrada para IP a"
   ]
  },
  {
   "cell_type": "code",
   "execution_count": 14,
   "metadata": {},
   "outputs": [
    {
     "name": "stdout",
     "output_type": "stream",
     "text": [
      "PUERTOS DE ENTRADA: \n",
      "  ->  53\n",
      "  ->  15812\n",
      "  ->  23903\n"
     ]
    }
   ],
   "source": [
    "print(\"PUERTOS DE ENTRADA: \")\n",
    "for port in df[df['src'] == frequent_address]['sport'].unique():\n",
    "    print(\"  -> \", port)"
   ]
  },
  {
   "cell_type": "markdown",
   "metadata": {},
   "source": [
    "##### Puertos de destino para IP a"
   ]
  },
  {
   "cell_type": "code",
   "execution_count": 15,
   "metadata": {},
   "outputs": [
    {
     "name": "stdout",
     "output_type": "stream",
     "text": [
      "PUERTOS DE SALIDA: \n",
      "  ->  53\n"
     ]
    }
   ],
   "source": [
    "print(\"PUERTOS DE SALIDA: \")\n",
    "for port in df[df['src'] == frequent_address]['dport'].unique():\n",
    "    print(\"  -> \", port)"
   ]
  },
  {
   "cell_type": "markdown",
   "metadata": {},
   "source": [
    "##### ¿Para qué se utilizan los puertos más comúnes de salida y destino?"
   ]
  },
  {
   "cell_type": "markdown",
   "metadata": {},
   "source": [
    "Este puerto (no. 53) es utilizado por el servicio DNS. Resuelve los hosts, sus FQDNs y sus direcciones."
   ]
  },
  {
   "cell_type": "markdown",
   "metadata": {},
   "source": [
    "### Gráficas"
   ]
  },
  {
   "cell_type": "markdown",
   "metadata": {},
   "source": [
    "##### IP Origen x Payload"
   ]
  },
  {
   "cell_type": "code",
   "execution_count": 16,
   "metadata": {},
   "outputs": [
    {
     "data": {
      "text/plain": [
       "<AxesSubplot:xlabel='payload', ylabel='src'>"
      ]
     },
     "execution_count": 16,
     "metadata": {},
     "output_type": "execute_result"
    },
    {
     "data": {
      "image/png": "[encoded data removed]",
      "text/plain": [
       "<Figure size 432x288 with 1 Axes>"
      ]
     },
     "metadata": {
      "needs_background": "light"
     },
     "output_type": "display_data"
    }
   ],
   "source": [
    "g1 = df[['src', 'payload']]\n",
    "g1 = g1.groupby('src').agg({\n",
    "    'payload': sum\n",
    "})\n",
    "\n",
    "sns.barplot(data=g1, x='payload', y=g1.index)"
   ]
  },
  {
   "cell_type": "markdown",
   "metadata": {},
   "source": [
    "##### IP Destino x Payload"
   ]
  },
  {
   "cell_type": "code",
   "execution_count": 17,
   "metadata": {},
   "outputs": [
    {
     "data": {
      "text/plain": [
       "<AxesSubplot:xlabel='payload', ylabel='dst'>"
      ]
     },
     "execution_count": 17,
     "metadata": {},
     "output_type": "execute_result"
    },
    {
     "data": {
      "image/png": "[encoded data removed]",
      "text/plain": [
       "<Figure size 432x288 with 1 Axes>"
      ]
     },
     "metadata": {
      "needs_background": "light"
     },
     "output_type": "display_data"
    }
   ],
   "source": [
    "g2 = df[['dst', 'payload']]\n",
    "g2 = g2.groupby('dst').agg({\n",
    "    'payload': sum\n",
    "})\n",
    "\n",
    "sns.barplot(data=g2, x='payload', y=g2.index)"
   ]
  },
  {
   "cell_type": "markdown",
   "metadata": {},
   "source": [
    "##### Puertos Origen x Payload"
   ]
  },
  {
   "cell_type": "code",
   "execution_count": 18,
   "metadata": {},
   "outputs": [
    {
     "data": {
      "text/plain": [
       "<AxesSubplot:xlabel='payload', ylabel='sport'>"
      ]
     },
     "execution_count": 18,
     "metadata": {},
     "output_type": "execute_result"
    },
    {
     "data": {
      "image/png": "[encoded data removed]",
      "text/plain": [
       "<Figure size 432x288 with 1 Axes>"
      ]
     },
     "metadata": {
      "needs_background": "light"
     },
     "output_type": "display_data"
    }
   ],
   "source": [
    "g3 = df[['sport', 'payload']]\n",
    "g3 = g3.groupby('sport').agg({\n",
    "    'payload': sum\n",
    "})\n",
    "\n",
    "sns.barplot(data=g3, x='payload', y=g3.index, orient='h')"
   ]
  },
  {
   "cell_type": "markdown",
   "metadata": {},
   "source": [
    "##### Puertos Destino x Payload"
   ]
  },
  {
   "cell_type": "code",
   "execution_count": 19,
   "metadata": {},
   "outputs": [
    {
     "data": {
      "text/plain": [
       "<AxesSubplot:xlabel='payload', ylabel='dport'>"
      ]
     },
     "execution_count": 19,
     "metadata": {},
     "output_type": "execute_result"
    },
    {
     "data": {
      "image/png": "[encoded data removed]",
      "text/plain": [
       "<Figure size 432x288 with 1 Axes>"
      ]
     },
     "metadata": {
      "needs_background": "light"
     },
     "output_type": "display_data"
    }
   ],
   "source": [
    "g4 = df[['dport', 'payload']]\n",
    "g4 = g4.groupby('dport').agg({\n",
    "    'payload': sum\n",
    "})\n",
    "\n",
    "sns.barplot(data=g4, x='payload', y=g4.index, orient='h')"
   ]
  },
  {
   "cell_type": "markdown",
   "metadata": {},
   "source": [
    "### Investigación del payload"
   ]
  },
  {
   "cell_type": "markdown",
   "metadata": {},
   "source": [
    "##### DF conversación IP origen"
   ]
  },
  {
   "cell_type": "code",
   "execution_count": 20,
   "metadata": {},
   "outputs": [],
   "source": [
    "ip = df[df['src'] == frequent_address]"
   ]
  },
  {
   "cell_type": "code",
   "execution_count": 21,
   "metadata": {},
   "outputs": [
    {
     "data": {
      "text/plain": [
       "'10.1.10.53'"
      ]
     },
     "execution_count": 21,
     "metadata": {},
     "output_type": "execute_result"
    }
   ],
   "source": [
    "frequent_address"
   ]
  },
  {
   "cell_type": "code",
   "execution_count": 22,
   "metadata": {},
   "outputs": [
    {
     "data": {
      "text/plain": [
       "10.1.10.53    31\n",
       "Name: src, dtype: int64"
      ]
     },
     "execution_count": 22,
     "metadata": {},
     "output_type": "execute_result"
    }
   ],
   "source": [
    "ip['src'].value_counts()"
   ]
  },
  {
   "cell_type": "markdown",
   "metadata": {},
   "source": [
    "##### SRC, DST, GROUP BY 'payload'"
   ]
  },
  {
   "cell_type": "code",
   "execution_count": 23,
   "metadata": {},
   "outputs": [],
   "source": [
    "src_dst = ip[['src', 'dst', 'payload']].sort_values(['payload'], ascending=False).groupby('payload')"
   ]
  },
  {
   "cell_type": "code",
   "execution_count": 24,
   "metadata": {},
   "outputs": [
    {
     "data": {
      "text/html": [
       "<div>\n",
       "<style scoped>\n",
       "    .dataframe tbody tr th:only-of-type {\n",
       "        vertical-align: middle;\n",
       "    }\n",
       "\n",
       "    .dataframe tbody tr th {\n",
       "        vertical-align: top;\n",
       "    }\n",
       "\n",
       "    .dataframe thead th {\n",
       "        text-align: right;\n",
       "    }\n",
       "</style>\n",
       "<table border=\"1\" class=\"dataframe\">\n",
       "  <thead>\n",
       "    <tr style=\"text-align: right;\">\n",
       "      <th></th>\n",
       "      <th>src</th>\n",
       "      <th>dst</th>\n",
       "      <th>payload</th>\n",
       "    </tr>\n",
       "  </thead>\n",
       "  <tbody>\n",
       "    <tr>\n",
       "      <th>80</th>\n",
       "      <td>10.1.10.53</td>\n",
       "      <td>84.54.22.33</td>\n",
       "      <td>1023</td>\n",
       "    </tr>\n",
       "    <tr>\n",
       "      <th>70</th>\n",
       "      <td>10.1.10.53</td>\n",
       "      <td>84.54.22.33</td>\n",
       "      <td>1017</td>\n",
       "    </tr>\n",
       "    <tr>\n",
       "      <th>96</th>\n",
       "      <td>10.1.10.53</td>\n",
       "      <td>84.54.22.33</td>\n",
       "      <td>1011</td>\n",
       "    </tr>\n",
       "    <tr>\n",
       "      <th>92</th>\n",
       "      <td>10.1.10.53</td>\n",
       "      <td>84.54.22.33</td>\n",
       "      <td>1009</td>\n",
       "    </tr>\n",
       "    <tr>\n",
       "      <th>98</th>\n",
       "      <td>10.1.10.53</td>\n",
       "      <td>84.54.22.33</td>\n",
       "      <td>1009</td>\n",
       "    </tr>\n",
       "    <tr>\n",
       "      <th>100</th>\n",
       "      <td>10.1.10.53</td>\n",
       "      <td>84.54.22.33</td>\n",
       "      <td>1007</td>\n",
       "    </tr>\n",
       "    <tr>\n",
       "      <th>116</th>\n",
       "      <td>10.1.10.53</td>\n",
       "      <td>84.54.22.33</td>\n",
       "      <td>999</td>\n",
       "    </tr>\n",
       "    <tr>\n",
       "      <th>110</th>\n",
       "      <td>10.1.10.53</td>\n",
       "      <td>84.54.22.33</td>\n",
       "      <td>991</td>\n",
       "    </tr>\n",
       "    <tr>\n",
       "      <th>114</th>\n",
       "      <td>10.1.10.53</td>\n",
       "      <td>84.54.22.33</td>\n",
       "      <td>989</td>\n",
       "    </tr>\n",
       "    <tr>\n",
       "      <th>108</th>\n",
       "      <td>10.1.10.53</td>\n",
       "      <td>84.54.22.33</td>\n",
       "      <td>985</td>\n",
       "    </tr>\n",
       "    <tr>\n",
       "      <th>64</th>\n",
       "      <td>10.1.10.53</td>\n",
       "      <td>84.54.22.33</td>\n",
       "      <td>984</td>\n",
       "    </tr>\n",
       "    <tr>\n",
       "      <th>102</th>\n",
       "      <td>10.1.10.53</td>\n",
       "      <td>84.54.22.33</td>\n",
       "      <td>982</td>\n",
       "    </tr>\n",
       "    <tr>\n",
       "      <th>72</th>\n",
       "      <td>10.1.10.53</td>\n",
       "      <td>84.54.22.33</td>\n",
       "      <td>980</td>\n",
       "    </tr>\n",
       "    <tr>\n",
       "      <th>106</th>\n",
       "      <td>10.1.10.53</td>\n",
       "      <td>84.54.22.33</td>\n",
       "      <td>978</td>\n",
       "    </tr>\n",
       "    <tr>\n",
       "      <th>104</th>\n",
       "      <td>10.1.10.53</td>\n",
       "      <td>84.54.22.33</td>\n",
       "      <td>978</td>\n",
       "    </tr>\n",
       "    <tr>\n",
       "      <th>86</th>\n",
       "      <td>10.1.10.53</td>\n",
       "      <td>84.54.22.33</td>\n",
       "      <td>978</td>\n",
       "    </tr>\n",
       "    <tr>\n",
       "      <th>112</th>\n",
       "      <td>10.1.10.53</td>\n",
       "      <td>84.54.22.33</td>\n",
       "      <td>977</td>\n",
       "    </tr>\n",
       "    <tr>\n",
       "      <th>94</th>\n",
       "      <td>10.1.10.53</td>\n",
       "      <td>84.54.22.33</td>\n",
       "      <td>976</td>\n",
       "    </tr>\n",
       "    <tr>\n",
       "      <th>90</th>\n",
       "      <td>10.1.10.53</td>\n",
       "      <td>84.54.22.33</td>\n",
       "      <td>976</td>\n",
       "    </tr>\n",
       "    <tr>\n",
       "      <th>68</th>\n",
       "      <td>10.1.10.53</td>\n",
       "      <td>84.54.22.33</td>\n",
       "      <td>975</td>\n",
       "    </tr>\n",
       "    <tr>\n",
       "      <th>66</th>\n",
       "      <td>10.1.10.53</td>\n",
       "      <td>84.54.22.33</td>\n",
       "      <td>970</td>\n",
       "    </tr>\n",
       "    <tr>\n",
       "      <th>78</th>\n",
       "      <td>10.1.10.53</td>\n",
       "      <td>84.54.22.33</td>\n",
       "      <td>964</td>\n",
       "    </tr>\n",
       "    <tr>\n",
       "      <th>88</th>\n",
       "      <td>10.1.10.53</td>\n",
       "      <td>84.54.22.33</td>\n",
       "      <td>958</td>\n",
       "    </tr>\n",
       "    <tr>\n",
       "      <th>74</th>\n",
       "      <td>10.1.10.53</td>\n",
       "      <td>84.54.22.33</td>\n",
       "      <td>951</td>\n",
       "    </tr>\n",
       "    <tr>\n",
       "      <th>62</th>\n",
       "      <td>10.1.10.53</td>\n",
       "      <td>84.54.22.33</td>\n",
       "      <td>947</td>\n",
       "    </tr>\n",
       "    <tr>\n",
       "      <th>118</th>\n",
       "      <td>10.1.10.53</td>\n",
       "      <td>84.54.22.33</td>\n",
       "      <td>941</td>\n",
       "    </tr>\n",
       "    <tr>\n",
       "      <th>60</th>\n",
       "      <td>10.1.10.53</td>\n",
       "      <td>84.54.22.33</td>\n",
       "      <td>933</td>\n",
       "    </tr>\n",
       "    <tr>\n",
       "      <th>76</th>\n",
       "      <td>10.1.10.53</td>\n",
       "      <td>84.54.22.33</td>\n",
       "      <td>931</td>\n",
       "    </tr>\n",
       "    <tr>\n",
       "      <th>120</th>\n",
       "      <td>10.1.10.53</td>\n",
       "      <td>84.54.22.33</td>\n",
       "      <td>560</td>\n",
       "    </tr>\n",
       "    <tr>\n",
       "      <th>83</th>\n",
       "      <td>10.1.10.53</td>\n",
       "      <td>75.75.75.75</td>\n",
       "      <td>37</td>\n",
       "    </tr>\n",
       "    <tr>\n",
       "      <th>82</th>\n",
       "      <td>10.1.10.53</td>\n",
       "      <td>75.75.75.75</td>\n",
       "      <td>37</td>\n",
       "    </tr>\n",
       "  </tbody>\n",
       "</table>\n",
       "</div>"
      ],
      "text/plain": [
       "            src          dst payload\n",
       "80   10.1.10.53  84.54.22.33    1023\n",
       "70   10.1.10.53  84.54.22.33    1017\n",
       "96   10.1.10.53  84.54.22.33    1011\n",
       "92   10.1.10.53  84.54.22.33    1009\n",
       "98   10.1.10.53  84.54.22.33    1009\n",
       "100  10.1.10.53  84.54.22.33    1007\n",
       "116  10.1.10.53  84.54.22.33     999\n",
       "110  10.1.10.53  84.54.22.33     991\n",
       "114  10.1.10.53  84.54.22.33     989\n",
       "108  10.1.10.53  84.54.22.33     985\n",
       "64   10.1.10.53  84.54.22.33     984\n",
       "102  10.1.10.53  84.54.22.33     982\n",
       "72   10.1.10.53  84.54.22.33     980\n",
       "106  10.1.10.53  84.54.22.33     978\n",
       "104  10.1.10.53  84.54.22.33     978\n",
       "86   10.1.10.53  84.54.22.33     978\n",
       "112  10.1.10.53  84.54.22.33     977\n",
       "94   10.1.10.53  84.54.22.33     976\n",
       "90   10.1.10.53  84.54.22.33     976\n",
       "68   10.1.10.53  84.54.22.33     975\n",
       "66   10.1.10.53  84.54.22.33     970\n",
       "78   10.1.10.53  84.54.22.33     964\n",
       "88   10.1.10.53  84.54.22.33     958\n",
       "74   10.1.10.53  84.54.22.33     951\n",
       "62   10.1.10.53  84.54.22.33     947\n",
       "118  10.1.10.53  84.54.22.33     941\n",
       "60   10.1.10.53  84.54.22.33     933\n",
       "76   10.1.10.53  84.54.22.33     931\n",
       "120  10.1.10.53  84.54.22.33     560\n",
       "83   10.1.10.53  75.75.75.75      37\n",
       "82   10.1.10.53  75.75.75.75      37"
      ]
     },
     "execution_count": 24,
     "metadata": {},
     "output_type": "execute_result"
    }
   ],
   "source": [
    "src_dst.head()"
   ]
  },
  {
   "cell_type": "markdown",
   "metadata": {},
   "source": [
    "### IP sospechosa"
   ]
  },
  {
   "cell_type": "code",
   "execution_count": 25,
   "metadata": {},
   "outputs": [],
   "source": [
    "sus_ip = src_dst.head()['dst'].iloc[0]"
   ]
  },
  {
   "cell_type": "markdown",
   "metadata": {},
   "source": [
    "### IP frecuente x IP sospechosa"
   ]
  },
  {
   "cell_type": "code",
   "execution_count": 26,
   "metadata": {},
   "outputs": [],
   "source": [
    "sus_frec = df.loc[(df['dst'] == sus_ip) & (df['src'] == frequent_address)]"
   ]
  },
  {
   "cell_type": "markdown",
   "metadata": {},
   "source": [
    "### Payloads"
   ]
  },
  {
   "cell_type": "code",
   "execution_count": 38,
   "metadata": {},
   "outputs": [],
   "source": [
    "payloads = [p for p in sus_frec['payload'].unique()]"
   ]
  },
  {
   "cell_type": "code",
   "execution_count": 39,
   "metadata": {},
   "outputs": [
    {
     "name": "stdout",
     "output_type": "stream",
     "text": [
      "933\n",
      "947\n",
      "984\n",
      "970\n",
      "975\n",
      "1017\n",
      "980\n",
      "951\n",
      "931\n",
      "964\n",
      "1023\n",
      "978\n",
      "958\n",
      "976\n",
      "1009\n",
      "1011\n",
      "1007\n",
      "982\n",
      "985\n",
      "991\n",
      "977\n",
      "989\n",
      "999\n",
      "941\n",
      "560\n"
     ]
    }
   ],
   "source": [
    "for p in payloads:\n",
    "    print(p)"
   ]
  },
  {
   "cell_type": "markdown",
   "metadata": {},
   "source": [
    "### Examinar payloads"
   ]
  },
  {
   "cell_type": "markdown",
   "metadata": {},
   "source": [
    "Hay un payload que se comporta distinto a los demás, el valor es de 560, mientras que el de los demás es de 950 para arriba."
   ]
  },
  {
   "cell_type": "markdown",
   "metadata": {},
   "source": [
    "## PARTE 2"
   ]
  },
  {
   "cell_type": "code",
   "execution_count": 190,
   "metadata": {},
   "outputs": [],
   "source": [
    "dfm = pd.read_csv('datasets/data.csv')"
   ]
  },
  {
   "cell_type": "markdown",
   "metadata": {},
   "source": [
    "##### Exploración"
   ]
  },
  {
   "cell_type": "code",
   "execution_count": 191,
   "metadata": {},
   "outputs": [
    {
     "data": {
      "text/html": [
       "<div>\n",
       "<style scoped>\n",
       "    .dataframe tbody tr th:only-of-type {\n",
       "        vertical-align: middle;\n",
       "    }\n",
       "\n",
       "    .dataframe tbody tr th {\n",
       "        vertical-align: top;\n",
       "    }\n",
       "\n",
       "    .dataframe thead th {\n",
       "        text-align: right;\n",
       "    }\n",
       "</style>\n",
       "<table border=\"1\" class=\"dataframe\">\n",
       "  <thead>\n",
       "    <tr style=\"text-align: right;\">\n",
       "      <th></th>\n",
       "      <th>duration</th>\n",
       "      <th>protocol_type</th>\n",
       "      <th>service</th>\n",
       "      <th>flag</th>\n",
       "      <th>src_bytes</th>\n",
       "      <th>dst_bytes</th>\n",
       "      <th>land</th>\n",
       "      <th>wrong_fragment</th>\n",
       "      <th>urgent</th>\n",
       "      <th>hot</th>\n",
       "      <th>...</th>\n",
       "      <th>dst_host_srv_count</th>\n",
       "      <th>dst_host_same_srv_rate</th>\n",
       "      <th>dst_host_diff_srv_rate</th>\n",
       "      <th>dst_host_same_src_port_rate</th>\n",
       "      <th>dst_host_srv_diff_host_rate</th>\n",
       "      <th>dst_host_serror_rate</th>\n",
       "      <th>dst_host_srv_serror_rate</th>\n",
       "      <th>dst_host_rerror_rate</th>\n",
       "      <th>dst_host_srv_rerror_rate</th>\n",
       "      <th>class</th>\n",
       "    </tr>\n",
       "  </thead>\n",
       "  <tbody>\n",
       "    <tr>\n",
       "      <th>0</th>\n",
       "      <td>0</td>\n",
       "      <td>tcp</td>\n",
       "      <td>ftp_data</td>\n",
       "      <td>SF</td>\n",
       "      <td>491</td>\n",
       "      <td>0</td>\n",
       "      <td>0</td>\n",
       "      <td>0</td>\n",
       "      <td>0</td>\n",
       "      <td>0</td>\n",
       "      <td>...</td>\n",
       "      <td>25</td>\n",
       "      <td>0.17</td>\n",
       "      <td>0.03</td>\n",
       "      <td>0.17</td>\n",
       "      <td>0.00</td>\n",
       "      <td>0.00</td>\n",
       "      <td>0.00</td>\n",
       "      <td>0.05</td>\n",
       "      <td>0.00</td>\n",
       "      <td>normal</td>\n",
       "    </tr>\n",
       "    <tr>\n",
       "      <th>1</th>\n",
       "      <td>0</td>\n",
       "      <td>udp</td>\n",
       "      <td>other</td>\n",
       "      <td>SF</td>\n",
       "      <td>146</td>\n",
       "      <td>0</td>\n",
       "      <td>0</td>\n",
       "      <td>0</td>\n",
       "      <td>0</td>\n",
       "      <td>0</td>\n",
       "      <td>...</td>\n",
       "      <td>1</td>\n",
       "      <td>0.00</td>\n",
       "      <td>0.60</td>\n",
       "      <td>0.88</td>\n",
       "      <td>0.00</td>\n",
       "      <td>0.00</td>\n",
       "      <td>0.00</td>\n",
       "      <td>0.00</td>\n",
       "      <td>0.00</td>\n",
       "      <td>normal</td>\n",
       "    </tr>\n",
       "    <tr>\n",
       "      <th>2</th>\n",
       "      <td>0</td>\n",
       "      <td>tcp</td>\n",
       "      <td>private</td>\n",
       "      <td>S0</td>\n",
       "      <td>0</td>\n",
       "      <td>0</td>\n",
       "      <td>0</td>\n",
       "      <td>0</td>\n",
       "      <td>0</td>\n",
       "      <td>0</td>\n",
       "      <td>...</td>\n",
       "      <td>26</td>\n",
       "      <td>0.10</td>\n",
       "      <td>0.05</td>\n",
       "      <td>0.00</td>\n",
       "      <td>0.00</td>\n",
       "      <td>1.00</td>\n",
       "      <td>1.00</td>\n",
       "      <td>0.00</td>\n",
       "      <td>0.00</td>\n",
       "      <td>anomaly</td>\n",
       "    </tr>\n",
       "    <tr>\n",
       "      <th>3</th>\n",
       "      <td>0</td>\n",
       "      <td>tcp</td>\n",
       "      <td>http</td>\n",
       "      <td>SF</td>\n",
       "      <td>232</td>\n",
       "      <td>8153</td>\n",
       "      <td>0</td>\n",
       "      <td>0</td>\n",
       "      <td>0</td>\n",
       "      <td>0</td>\n",
       "      <td>...</td>\n",
       "      <td>255</td>\n",
       "      <td>1.00</td>\n",
       "      <td>0.00</td>\n",
       "      <td>0.03</td>\n",
       "      <td>0.04</td>\n",
       "      <td>0.03</td>\n",
       "      <td>0.01</td>\n",
       "      <td>0.00</td>\n",
       "      <td>0.01</td>\n",
       "      <td>normal</td>\n",
       "    </tr>\n",
       "    <tr>\n",
       "      <th>4</th>\n",
       "      <td>0</td>\n",
       "      <td>tcp</td>\n",
       "      <td>http</td>\n",
       "      <td>SF</td>\n",
       "      <td>199</td>\n",
       "      <td>420</td>\n",
       "      <td>0</td>\n",
       "      <td>0</td>\n",
       "      <td>0</td>\n",
       "      <td>0</td>\n",
       "      <td>...</td>\n",
       "      <td>255</td>\n",
       "      <td>1.00</td>\n",
       "      <td>0.00</td>\n",
       "      <td>0.00</td>\n",
       "      <td>0.00</td>\n",
       "      <td>0.00</td>\n",
       "      <td>0.00</td>\n",
       "      <td>0.00</td>\n",
       "      <td>0.00</td>\n",
       "      <td>normal</td>\n",
       "    </tr>\n",
       "    <tr>\n",
       "      <th>5</th>\n",
       "      <td>0</td>\n",
       "      <td>tcp</td>\n",
       "      <td>private</td>\n",
       "      <td>REJ</td>\n",
       "      <td>0</td>\n",
       "      <td>0</td>\n",
       "      <td>0</td>\n",
       "      <td>0</td>\n",
       "      <td>0</td>\n",
       "      <td>0</td>\n",
       "      <td>...</td>\n",
       "      <td>19</td>\n",
       "      <td>0.07</td>\n",
       "      <td>0.07</td>\n",
       "      <td>0.00</td>\n",
       "      <td>0.00</td>\n",
       "      <td>0.00</td>\n",
       "      <td>0.00</td>\n",
       "      <td>1.00</td>\n",
       "      <td>1.00</td>\n",
       "      <td>anomaly</td>\n",
       "    </tr>\n",
       "    <tr>\n",
       "      <th>6</th>\n",
       "      <td>0</td>\n",
       "      <td>tcp</td>\n",
       "      <td>private</td>\n",
       "      <td>S0</td>\n",
       "      <td>0</td>\n",
       "      <td>0</td>\n",
       "      <td>0</td>\n",
       "      <td>0</td>\n",
       "      <td>0</td>\n",
       "      <td>0</td>\n",
       "      <td>...</td>\n",
       "      <td>9</td>\n",
       "      <td>0.04</td>\n",
       "      <td>0.05</td>\n",
       "      <td>0.00</td>\n",
       "      <td>0.00</td>\n",
       "      <td>1.00</td>\n",
       "      <td>1.00</td>\n",
       "      <td>0.00</td>\n",
       "      <td>0.00</td>\n",
       "      <td>anomaly</td>\n",
       "    </tr>\n",
       "    <tr>\n",
       "      <th>7</th>\n",
       "      <td>0</td>\n",
       "      <td>tcp</td>\n",
       "      <td>private</td>\n",
       "      <td>S0</td>\n",
       "      <td>0</td>\n",
       "      <td>0</td>\n",
       "      <td>0</td>\n",
       "      <td>0</td>\n",
       "      <td>0</td>\n",
       "      <td>0</td>\n",
       "      <td>...</td>\n",
       "      <td>15</td>\n",
       "      <td>0.06</td>\n",
       "      <td>0.07</td>\n",
       "      <td>0.00</td>\n",
       "      <td>0.00</td>\n",
       "      <td>1.00</td>\n",
       "      <td>1.00</td>\n",
       "      <td>0.00</td>\n",
       "      <td>0.00</td>\n",
       "      <td>anomaly</td>\n",
       "    </tr>\n",
       "    <tr>\n",
       "      <th>8</th>\n",
       "      <td>0</td>\n",
       "      <td>tcp</td>\n",
       "      <td>remote_job</td>\n",
       "      <td>S0</td>\n",
       "      <td>0</td>\n",
       "      <td>0</td>\n",
       "      <td>0</td>\n",
       "      <td>0</td>\n",
       "      <td>0</td>\n",
       "      <td>0</td>\n",
       "      <td>...</td>\n",
       "      <td>23</td>\n",
       "      <td>0.09</td>\n",
       "      <td>0.05</td>\n",
       "      <td>0.00</td>\n",
       "      <td>0.00</td>\n",
       "      <td>1.00</td>\n",
       "      <td>1.00</td>\n",
       "      <td>0.00</td>\n",
       "      <td>0.00</td>\n",
       "      <td>anomaly</td>\n",
       "    </tr>\n",
       "    <tr>\n",
       "      <th>9</th>\n",
       "      <td>0</td>\n",
       "      <td>tcp</td>\n",
       "      <td>private</td>\n",
       "      <td>S0</td>\n",
       "      <td>0</td>\n",
       "      <td>0</td>\n",
       "      <td>0</td>\n",
       "      <td>0</td>\n",
       "      <td>0</td>\n",
       "      <td>0</td>\n",
       "      <td>...</td>\n",
       "      <td>13</td>\n",
       "      <td>0.05</td>\n",
       "      <td>0.06</td>\n",
       "      <td>0.00</td>\n",
       "      <td>0.00</td>\n",
       "      <td>1.00</td>\n",
       "      <td>1.00</td>\n",
       "      <td>0.00</td>\n",
       "      <td>0.00</td>\n",
       "      <td>anomaly</td>\n",
       "    </tr>\n",
       "  </tbody>\n",
       "</table>\n",
       "<p>10 rows × 42 columns</p>\n",
       "</div>"
      ],
      "text/plain": [
       "   duration protocol_type     service flag  src_bytes  dst_bytes  land  \\\n",
       "0         0           tcp    ftp_data   SF        491          0     0   \n",
       "1         0           udp       other   SF        146          0     0   \n",
       "2         0           tcp     private   S0          0          0     0   \n",
       "3         0           tcp        http   SF        232       8153     0   \n",
       "4         0           tcp        http   SF        199        420     0   \n",
       "5         0           tcp     private  REJ          0          0     0   \n",
       "6         0           tcp     private   S0          0          0     0   \n",
       "7         0           tcp     private   S0          0          0     0   \n",
       "8         0           tcp  remote_job   S0          0          0     0   \n",
       "9         0           tcp     private   S0          0          0     0   \n",
       "\n",
       "   wrong_fragment  urgent  hot  ...  dst_host_srv_count  \\\n",
       "0               0       0    0  ...                  25   \n",
       "1               0       0    0  ...                   1   \n",
       "2               0       0    0  ...                  26   \n",
       "3               0       0    0  ...                 255   \n",
       "4               0       0    0  ...                 255   \n",
       "5               0       0    0  ...                  19   \n",
       "6               0       0    0  ...                   9   \n",
       "7               0       0    0  ...                  15   \n",
       "8               0       0    0  ...                  23   \n",
       "9               0       0    0  ...                  13   \n",
       "\n",
       "   dst_host_same_srv_rate  dst_host_diff_srv_rate  \\\n",
       "0                    0.17                    0.03   \n",
       "1                    0.00                    0.60   \n",
       "2                    0.10                    0.05   \n",
       "3                    1.00                    0.00   \n",
       "4                    1.00                    0.00   \n",
       "5                    0.07                    0.07   \n",
       "6                    0.04                    0.05   \n",
       "7                    0.06                    0.07   \n",
       "8                    0.09                    0.05   \n",
       "9                    0.05                    0.06   \n",
       "\n",
       "   dst_host_same_src_port_rate  dst_host_srv_diff_host_rate  \\\n",
       "0                         0.17                         0.00   \n",
       "1                         0.88                         0.00   \n",
       "2                         0.00                         0.00   \n",
       "3                         0.03                         0.04   \n",
       "4                         0.00                         0.00   \n",
       "5                         0.00                         0.00   \n",
       "6                         0.00                         0.00   \n",
       "7                         0.00                         0.00   \n",
       "8                         0.00                         0.00   \n",
       "9                         0.00                         0.00   \n",
       "\n",
       "   dst_host_serror_rate  dst_host_srv_serror_rate  dst_host_rerror_rate  \\\n",
       "0                  0.00                      0.00                  0.05   \n",
       "1                  0.00                      0.00                  0.00   \n",
       "2                  1.00                      1.00                  0.00   \n",
       "3                  0.03                      0.01                  0.00   \n",
       "4                  0.00                      0.00                  0.00   \n",
       "5                  0.00                      0.00                  1.00   \n",
       "6                  1.00                      1.00                  0.00   \n",
       "7                  1.00                      1.00                  0.00   \n",
       "8                  1.00                      1.00                  0.00   \n",
       "9                  1.00                      1.00                  0.00   \n",
       "\n",
       "   dst_host_srv_rerror_rate    class  \n",
       "0                      0.00   normal  \n",
       "1                      0.00   normal  \n",
       "2                      0.00  anomaly  \n",
       "3                      0.01   normal  \n",
       "4                      0.00   normal  \n",
       "5                      1.00  anomaly  \n",
       "6                      0.00  anomaly  \n",
       "7                      0.00  anomaly  \n",
       "8                      0.00  anomaly  \n",
       "9                      0.00  anomaly  \n",
       "\n",
       "[10 rows x 42 columns]"
      ]
     },
     "execution_count": 191,
     "metadata": {},
     "output_type": "execute_result"
    }
   ],
   "source": [
    "dfm.head(10)"
   ]
  },
  {
   "cell_type": "code",
   "execution_count": 192,
   "metadata": {},
   "outputs": [
    {
     "name": "stdout",
     "output_type": "stream",
     "text": [
      "<class 'pandas.core.frame.DataFrame'>\n",
      "RangeIndex: 25192 entries, 0 to 25191\n",
      "Data columns (total 42 columns):\n",
      " #   Column                       Non-Null Count  Dtype  \n",
      "---  ------                       --------------  -----  \n",
      " 0   duration                     25192 non-null  int64  \n",
      " 1   protocol_type                25192 non-null  object \n",
      " 2   service                      25192 non-null  object \n",
      " 3   flag                         25192 non-null  object \n",
      " 4   src_bytes                    25192 non-null  int64  \n",
      " 5   dst_bytes                    25192 non-null  int64  \n",
      " 6   land                         25192 non-null  int64  \n",
      " 7   wrong_fragment               25192 non-null  int64  \n",
      " 8   urgent                       25192 non-null  int64  \n",
      " 9   hot                          25192 non-null  int64  \n",
      " 10  num_failed_logins            25192 non-null  int64  \n",
      " 11  logged_in                    25192 non-null  int64  \n",
      " 12  num_compromised              25192 non-null  int64  \n",
      " 13  root_shell                   25192 non-null  int64  \n",
      " 14  su_attempted                 25192 non-null  int64  \n",
      " 15  num_root                     25192 non-null  int64  \n",
      " 16  num_file_creations           25192 non-null  int64  \n",
      " 17  num_shells                   25192 non-null  int64  \n",
      " 18  num_access_files             25192 non-null  int64  \n",
      " 19  num_outbound_cmds            25192 non-null  int64  \n",
      " 20  is_host_login                25192 non-null  int64  \n",
      " 21  is_guest_login               25192 non-null  int64  \n",
      " 22  count                        25192 non-null  int64  \n",
      " 23  srv_count                    25192 non-null  int64  \n",
      " 24  serror_rate                  25192 non-null  float64\n",
      " 25  srv_serror_rate              25192 non-null  float64\n",
      " 26  rerror_rate                  25192 non-null  float64\n",
      " 27  srv_rerror_rate              25192 non-null  float64\n",
      " 28  same_srv_rate                25192 non-null  float64\n",
      " 29  diff_srv_rate                25192 non-null  float64\n",
      " 30  srv_diff_host_rate           25192 non-null  float64\n",
      " 31  dst_host_count               25192 non-null  int64  \n",
      " 32  dst_host_srv_count           25192 non-null  int64  \n",
      " 33  dst_host_same_srv_rate       25192 non-null  float64\n",
      " 34  dst_host_diff_srv_rate       25192 non-null  float64\n",
      " 35  dst_host_same_src_port_rate  25192 non-null  float64\n",
      " 36  dst_host_srv_diff_host_rate  25192 non-null  float64\n",
      " 37  dst_host_serror_rate         25192 non-null  float64\n",
      " 38  dst_host_srv_serror_rate     25192 non-null  float64\n",
      " 39  dst_host_rerror_rate         25192 non-null  float64\n",
      " 40  dst_host_srv_rerror_rate     25192 non-null  float64\n",
      " 41  class                        25192 non-null  object \n",
      "dtypes: float64(15), int64(23), object(4)\n",
      "memory usage: 8.1+ MB\n"
     ]
    }
   ],
   "source": [
    "dfm.info()"
   ]
  },
  {
   "cell_type": "code",
   "execution_count": 193,
   "metadata": {},
   "outputs": [
    {
     "data": {
      "text/plain": [
       "normal     13449\n",
       "anomaly    11743\n",
       "Name: class, dtype: int64"
      ]
     },
     "execution_count": 193,
     "metadata": {},
     "output_type": "execute_result"
    }
   ],
   "source": [
    "dfm['class'].value_counts()"
   ]
  },
  {
   "cell_type": "code",
   "execution_count": 194,
   "metadata": {},
   "outputs": [
    {
     "data": {
      "text/plain": [
       "0        23168\n",
       "1          374\n",
       "2          165\n",
       "3          102\n",
       "4           75\n",
       "         ...  \n",
       "17025        1\n",
       "12892        1\n",
       "584          1\n",
       "10774        1\n",
       "322          1\n",
       "Name: duration, Length: 758, dtype: int64"
      ]
     },
     "execution_count": 194,
     "metadata": {},
     "output_type": "execute_result"
    }
   ],
   "source": [
    "## alta cantidad de 0s (92%)\n",
    "dfm['duration'].value_counts()"
   ]
  },
  {
   "cell_type": "code",
   "execution_count": 195,
   "metadata": {},
   "outputs": [
    {
     "data": {
      "text/plain": [
       "tcp     20526\n",
       "udp      3011\n",
       "icmp     1655\n",
       "Name: protocol_type, dtype: int64"
      ]
     },
     "execution_count": 195,
     "metadata": {},
     "output_type": "execute_result"
    }
   ],
   "source": [
    "dfm['protocol_type'].value_counts()"
   ]
  },
  {
   "cell_type": "code",
   "execution_count": 196,
   "metadata": {},
   "outputs": [
    {
     "data": {
      "text/plain": [
       "0    25190\n",
       "1        2\n",
       "Name: land, dtype: int64"
      ]
     },
     "execution_count": 196,
     "metadata": {},
     "output_type": "execute_result"
    }
   ],
   "source": [
    "## alta cantidad de 0s (99%)\n",
    "dfm['land'].value_counts()"
   ]
  },
  {
   "cell_type": "code",
   "execution_count": 197,
   "metadata": {},
   "outputs": [
    {
     "data": {
      "text/plain": [
       "0    24968\n",
       "3      187\n",
       "1       37\n",
       "Name: wrong_fragment, dtype: int64"
      ]
     },
     "execution_count": 197,
     "metadata": {},
     "output_type": "execute_result"
    }
   ],
   "source": [
    "## alta cantidad de 0s (99%)\n",
    "dfm['wrong_fragment'].value_counts()"
   ]
  },
  {
   "cell_type": "code",
   "execution_count": 198,
   "metadata": {},
   "outputs": [
    {
     "data": {
      "text/plain": [
       "0    25191\n",
       "1        1\n",
       "Name: urgent, dtype: int64"
      ]
     },
     "execution_count": 198,
     "metadata": {},
     "output_type": "execute_result"
    }
   ],
   "source": [
    "## alta cantidad de 0s (100%)\n",
    "dfm['urgent'].value_counts()"
   ]
  },
  {
   "cell_type": "code",
   "execution_count": 199,
   "metadata": {},
   "outputs": [
    {
     "data": {
      "text/plain": [
       "0     24672\n",
       "2       200\n",
       "1        78\n",
       "30       55\n",
       "28       52\n",
       "4        37\n",
       "6        26\n",
       "5        17\n",
       "22       13\n",
       "24        9\n",
       "19        8\n",
       "3         7\n",
       "18        6\n",
       "14        3\n",
       "7         2\n",
       "15        1\n",
       "25        1\n",
       "77        1\n",
       "17        1\n",
       "11        1\n",
       "20        1\n",
       "12        1\n",
       "Name: hot, dtype: int64"
      ]
     },
     "execution_count": 199,
     "metadata": {},
     "output_type": "execute_result"
    }
   ],
   "source": [
    "## alta cantidad de 0s (98%)\n",
    "dfm['hot'].value_counts()"
   ]
  },
  {
   "cell_type": "code",
   "execution_count": 200,
   "metadata": {},
   "outputs": [
    {
     "data": {
      "text/plain": [
       "0    25169\n",
       "1       19\n",
       "2        2\n",
       "3        1\n",
       "4        1\n",
       "Name: num_failed_logins, dtype: int64"
      ]
     },
     "execution_count": 200,
     "metadata": {},
     "output_type": "execute_result"
    }
   ],
   "source": [
    "## alta cantidad de 0s (99.99%)\n",
    "dfm['num_failed_logins'].value_counts()"
   ]
  },
  {
   "cell_type": "code",
   "execution_count": 201,
   "metadata": {},
   "outputs": [
    {
     "data": {
      "text/plain": [
       "0      24920\n",
       "1        194\n",
       "2         21\n",
       "4         13\n",
       "6          8\n",
       "3          7\n",
       "5          5\n",
       "7          2\n",
       "151        2\n",
       "12         2\n",
       "83         1\n",
       "558        1\n",
       "789        1\n",
       "520        1\n",
       "884        1\n",
       "217        1\n",
       "371        1\n",
       "193        1\n",
       "31         1\n",
       "13         1\n",
       "157        1\n",
       "9          1\n",
       "110        1\n",
       "462        1\n",
       "107        1\n",
       "38         1\n",
       "19         1\n",
       "457        1\n",
       "Name: num_compromised, dtype: int64"
      ]
     },
     "execution_count": 201,
     "metadata": {},
     "output_type": "execute_result"
    }
   ],
   "source": [
    "## alta cantidad de 0s (99%)\n",
    "dfm['num_compromised'].value_counts()"
   ]
  },
  {
   "cell_type": "code",
   "execution_count": 202,
   "metadata": {},
   "outputs": [
    {
     "data": {
      "text/plain": [
       "0    25153\n",
       "1       39\n",
       "Name: root_shell, dtype: int64"
      ]
     },
     "execution_count": 202,
     "metadata": {},
     "output_type": "execute_result"
    }
   ],
   "source": [
    "## alta cantidad de 0s (99.99%)\n",
    "dfm['root_shell'].value_counts()"
   ]
  },
  {
   "cell_type": "code",
   "execution_count": 203,
   "metadata": {},
   "outputs": [
    {
     "data": {
      "text/plain": [
       "0    25171\n",
       "2       13\n",
       "1        8\n",
       "Name: su_attempted, dtype: int64"
      ]
     },
     "execution_count": 203,
     "metadata": {},
     "output_type": "execute_result"
    }
   ],
   "source": [
    "## alta cantidad de 0s (99.99%)\n",
    "dfm['su_attempted'].value_counts()"
   ]
  },
  {
   "cell_type": "code",
   "execution_count": 204,
   "metadata": {},
   "outputs": [
    {
     "data": {
      "text/plain": [
       "0      25058\n",
       "1         47\n",
       "9         24\n",
       "6         23\n",
       "2         10\n",
       "5          6\n",
       "4          2\n",
       "3          2\n",
       "14         1\n",
       "100        1\n",
       "975        1\n",
       "10         1\n",
       "572        1\n",
       "867        1\n",
       "191        1\n",
       "91         1\n",
       "247        1\n",
       "146        1\n",
       "417        1\n",
       "629        1\n",
       "7          1\n",
       "179        1\n",
       "54         1\n",
       "38         1\n",
       "151        1\n",
       "121        1\n",
       "512        1\n",
       "508        1\n",
       "Name: num_root, dtype: int64"
      ]
     },
     "execution_count": 204,
     "metadata": {},
     "output_type": "execute_result"
    }
   ],
   "source": [
    "## alta cantidad de 0s (99%)\n",
    "dfm['num_root'].value_counts()"
   ]
  },
  {
   "cell_type": "code",
   "execution_count": 205,
   "metadata": {},
   "outputs": [
    {
     "data": {
      "text/plain": [
       "0     25126\n",
       "1        37\n",
       "2         7\n",
       "4         3\n",
       "8         2\n",
       "18        2\n",
       "5         2\n",
       "21        1\n",
       "11        1\n",
       "20        1\n",
       "3         1\n",
       "40        1\n",
       "17        1\n",
       "6         1\n",
       "14        1\n",
       "19        1\n",
       "29        1\n",
       "13        1\n",
       "15        1\n",
       "38        1\n",
       "Name: num_file_creations, dtype: int64"
      ]
     },
     "execution_count": 205,
     "metadata": {},
     "output_type": "execute_result"
    }
   ],
   "source": [
    "## alta cantidad de 0s (99%)\n",
    "dfm['num_file_creations'].value_counts()"
   ]
  },
  {
   "cell_type": "code",
   "execution_count": 206,
   "metadata": {},
   "outputs": [
    {
     "data": {
      "text/plain": [
       "0    25183\n",
       "1        9\n",
       "Name: num_shells, dtype: int64"
      ]
     },
     "execution_count": 206,
     "metadata": {},
     "output_type": "execute_result"
    }
   ],
   "source": [
    "## alta cantidad de 0s (99.99%)\n",
    "dfm['num_shells'].value_counts()"
   ]
  },
  {
   "cell_type": "code",
   "execution_count": 207,
   "metadata": {},
   "outputs": [
    {
     "data": {
      "text/plain": [
       "0    25113\n",
       "1       65\n",
       "2        8\n",
       "3        2\n",
       "5        2\n",
       "4        1\n",
       "8        1\n",
       "Name: num_access_files, dtype: int64"
      ]
     },
     "execution_count": 207,
     "metadata": {},
     "output_type": "execute_result"
    }
   ],
   "source": [
    "## alta cantidad de 0s (99%)\n",
    "dfm['num_access_files'].value_counts()"
   ]
  },
  {
   "cell_type": "code",
   "execution_count": 208,
   "metadata": {},
   "outputs": [
    {
     "data": {
      "text/plain": [
       "0    25192\n",
       "Name: num_outbound_cmds, dtype: int64"
      ]
     },
     "execution_count": 208,
     "metadata": {},
     "output_type": "execute_result"
    }
   ],
   "source": [
    "## solo hay un valor\n",
    "dfm['num_outbound_cmds'].value_counts()"
   ]
  },
  {
   "cell_type": "code",
   "execution_count": 209,
   "metadata": {},
   "outputs": [
    {
     "data": {
      "text/plain": [
       "0    25192\n",
       "Name: is_host_login, dtype: int64"
      ]
     },
     "execution_count": 209,
     "metadata": {},
     "output_type": "execute_result"
    }
   ],
   "source": [
    "## solo hay un valor\n",
    "dfm['is_host_login'].value_counts()"
   ]
  },
  {
   "cell_type": "code",
   "execution_count": 210,
   "metadata": {},
   "outputs": [
    {
     "data": {
      "text/plain": [
       "0    24962\n",
       "1      230\n",
       "Name: is_guest_login, dtype: int64"
      ]
     },
     "execution_count": 210,
     "metadata": {},
     "output_type": "execute_result"
    }
   ],
   "source": [
    "## alta cantidad de 0s (99%)\n",
    "dfm['is_guest_login'].value_counts()"
   ]
  },
  {
   "cell_type": "markdown",
   "metadata": {},
   "source": [
    "##### Encoding"
   ]
  },
  {
   "cell_type": "code",
   "execution_count": 211,
   "metadata": {},
   "outputs": [],
   "source": [
    "service = pd.get_dummies(dfm['service'])\n",
    "flag = pd.get_dummies(dfm['flag'])"
   ]
  },
  {
   "cell_type": "code",
   "execution_count": 212,
   "metadata": {},
   "outputs": [],
   "source": [
    "dfm = dfm.drop(['service', 'flag'],axis = 1)"
   ]
  },
  {
   "cell_type": "code",
   "execution_count": 213,
   "metadata": {},
   "outputs": [],
   "source": [
    "dfm = dfm.join(service)\n",
    "dfm = dfm.join(flag)"
   ]
  },
  {
   "cell_type": "code",
   "execution_count": 214,
   "metadata": {},
   "outputs": [
    {
     "data": {
      "text/html": [
       "<div>\n",
       "<style scoped>\n",
       "    .dataframe tbody tr th:only-of-type {\n",
       "        vertical-align: middle;\n",
       "    }\n",
       "\n",
       "    .dataframe tbody tr th {\n",
       "        vertical-align: top;\n",
       "    }\n",
       "\n",
       "    .dataframe thead th {\n",
       "        text-align: right;\n",
       "    }\n",
       "</style>\n",
       "<table border=\"1\" class=\"dataframe\">\n",
       "  <thead>\n",
       "    <tr style=\"text-align: right;\">\n",
       "      <th></th>\n",
       "      <th>duration</th>\n",
       "      <th>protocol_type</th>\n",
       "      <th>src_bytes</th>\n",
       "      <th>dst_bytes</th>\n",
       "      <th>land</th>\n",
       "      <th>wrong_fragment</th>\n",
       "      <th>urgent</th>\n",
       "      <th>hot</th>\n",
       "      <th>num_failed_logins</th>\n",
       "      <th>logged_in</th>\n",
       "      <th>...</th>\n",
       "      <th>REJ</th>\n",
       "      <th>RSTO</th>\n",
       "      <th>RSTOS0</th>\n",
       "      <th>RSTR</th>\n",
       "      <th>S0</th>\n",
       "      <th>S1</th>\n",
       "      <th>S2</th>\n",
       "      <th>S3</th>\n",
       "      <th>SF</th>\n",
       "      <th>SH</th>\n",
       "    </tr>\n",
       "  </thead>\n",
       "  <tbody>\n",
       "    <tr>\n",
       "      <th>0</th>\n",
       "      <td>0</td>\n",
       "      <td>tcp</td>\n",
       "      <td>491</td>\n",
       "      <td>0</td>\n",
       "      <td>0</td>\n",
       "      <td>0</td>\n",
       "      <td>0</td>\n",
       "      <td>0</td>\n",
       "      <td>0</td>\n",
       "      <td>0</td>\n",
       "      <td>...</td>\n",
       "      <td>0</td>\n",
       "      <td>0</td>\n",
       "      <td>0</td>\n",
       "      <td>0</td>\n",
       "      <td>0</td>\n",
       "      <td>0</td>\n",
       "      <td>0</td>\n",
       "      <td>0</td>\n",
       "      <td>1</td>\n",
       "      <td>0</td>\n",
       "    </tr>\n",
       "    <tr>\n",
       "      <th>1</th>\n",
       "      <td>0</td>\n",
       "      <td>udp</td>\n",
       "      <td>146</td>\n",
       "      <td>0</td>\n",
       "      <td>0</td>\n",
       "      <td>0</td>\n",
       "      <td>0</td>\n",
       "      <td>0</td>\n",
       "      <td>0</td>\n",
       "      <td>0</td>\n",
       "      <td>...</td>\n",
       "      <td>0</td>\n",
       "      <td>0</td>\n",
       "      <td>0</td>\n",
       "      <td>0</td>\n",
       "      <td>0</td>\n",
       "      <td>0</td>\n",
       "      <td>0</td>\n",
       "      <td>0</td>\n",
       "      <td>1</td>\n",
       "      <td>0</td>\n",
       "    </tr>\n",
       "    <tr>\n",
       "      <th>2</th>\n",
       "      <td>0</td>\n",
       "      <td>tcp</td>\n",
       "      <td>0</td>\n",
       "      <td>0</td>\n",
       "      <td>0</td>\n",
       "      <td>0</td>\n",
       "      <td>0</td>\n",
       "      <td>0</td>\n",
       "      <td>0</td>\n",
       "      <td>0</td>\n",
       "      <td>...</td>\n",
       "      <td>0</td>\n",
       "      <td>0</td>\n",
       "      <td>0</td>\n",
       "      <td>0</td>\n",
       "      <td>1</td>\n",
       "      <td>0</td>\n",
       "      <td>0</td>\n",
       "      <td>0</td>\n",
       "      <td>0</td>\n",
       "      <td>0</td>\n",
       "    </tr>\n",
       "    <tr>\n",
       "      <th>3</th>\n",
       "      <td>0</td>\n",
       "      <td>tcp</td>\n",
       "      <td>232</td>\n",
       "      <td>8153</td>\n",
       "      <td>0</td>\n",
       "      <td>0</td>\n",
       "      <td>0</td>\n",
       "      <td>0</td>\n",
       "      <td>0</td>\n",
       "      <td>1</td>\n",
       "      <td>...</td>\n",
       "      <td>0</td>\n",
       "      <td>0</td>\n",
       "      <td>0</td>\n",
       "      <td>0</td>\n",
       "      <td>0</td>\n",
       "      <td>0</td>\n",
       "      <td>0</td>\n",
       "      <td>0</td>\n",
       "      <td>1</td>\n",
       "      <td>0</td>\n",
       "    </tr>\n",
       "    <tr>\n",
       "      <th>4</th>\n",
       "      <td>0</td>\n",
       "      <td>tcp</td>\n",
       "      <td>199</td>\n",
       "      <td>420</td>\n",
       "      <td>0</td>\n",
       "      <td>0</td>\n",
       "      <td>0</td>\n",
       "      <td>0</td>\n",
       "      <td>0</td>\n",
       "      <td>1</td>\n",
       "      <td>...</td>\n",
       "      <td>0</td>\n",
       "      <td>0</td>\n",
       "      <td>0</td>\n",
       "      <td>0</td>\n",
       "      <td>0</td>\n",
       "      <td>0</td>\n",
       "      <td>0</td>\n",
       "      <td>0</td>\n",
       "      <td>1</td>\n",
       "      <td>0</td>\n",
       "    </tr>\n",
       "    <tr>\n",
       "      <th>...</th>\n",
       "      <td>...</td>\n",
       "      <td>...</td>\n",
       "      <td>...</td>\n",
       "      <td>...</td>\n",
       "      <td>...</td>\n",
       "      <td>...</td>\n",
       "      <td>...</td>\n",
       "      <td>...</td>\n",
       "      <td>...</td>\n",
       "      <td>...</td>\n",
       "      <td>...</td>\n",
       "      <td>...</td>\n",
       "      <td>...</td>\n",
       "      <td>...</td>\n",
       "      <td>...</td>\n",
       "      <td>...</td>\n",
       "      <td>...</td>\n",
       "      <td>...</td>\n",
       "      <td>...</td>\n",
       "      <td>...</td>\n",
       "      <td>...</td>\n",
       "    </tr>\n",
       "    <tr>\n",
       "      <th>25187</th>\n",
       "      <td>0</td>\n",
       "      <td>tcp</td>\n",
       "      <td>0</td>\n",
       "      <td>0</td>\n",
       "      <td>0</td>\n",
       "      <td>0</td>\n",
       "      <td>0</td>\n",
       "      <td>0</td>\n",
       "      <td>0</td>\n",
       "      <td>0</td>\n",
       "      <td>...</td>\n",
       "      <td>0</td>\n",
       "      <td>1</td>\n",
       "      <td>0</td>\n",
       "      <td>0</td>\n",
       "      <td>0</td>\n",
       "      <td>0</td>\n",
       "      <td>0</td>\n",
       "      <td>0</td>\n",
       "      <td>0</td>\n",
       "      <td>0</td>\n",
       "    </tr>\n",
       "    <tr>\n",
       "      <th>25188</th>\n",
       "      <td>0</td>\n",
       "      <td>tcp</td>\n",
       "      <td>334</td>\n",
       "      <td>0</td>\n",
       "      <td>0</td>\n",
       "      <td>0</td>\n",
       "      <td>0</td>\n",
       "      <td>0</td>\n",
       "      <td>0</td>\n",
       "      <td>1</td>\n",
       "      <td>...</td>\n",
       "      <td>0</td>\n",
       "      <td>0</td>\n",
       "      <td>0</td>\n",
       "      <td>0</td>\n",
       "      <td>0</td>\n",
       "      <td>0</td>\n",
       "      <td>0</td>\n",
       "      <td>0</td>\n",
       "      <td>1</td>\n",
       "      <td>0</td>\n",
       "    </tr>\n",
       "    <tr>\n",
       "      <th>25189</th>\n",
       "      <td>0</td>\n",
       "      <td>tcp</td>\n",
       "      <td>0</td>\n",
       "      <td>0</td>\n",
       "      <td>0</td>\n",
       "      <td>0</td>\n",
       "      <td>0</td>\n",
       "      <td>0</td>\n",
       "      <td>0</td>\n",
       "      <td>0</td>\n",
       "      <td>...</td>\n",
       "      <td>1</td>\n",
       "      <td>0</td>\n",
       "      <td>0</td>\n",
       "      <td>0</td>\n",
       "      <td>0</td>\n",
       "      <td>0</td>\n",
       "      <td>0</td>\n",
       "      <td>0</td>\n",
       "      <td>0</td>\n",
       "      <td>0</td>\n",
       "    </tr>\n",
       "    <tr>\n",
       "      <th>25190</th>\n",
       "      <td>0</td>\n",
       "      <td>tcp</td>\n",
       "      <td>0</td>\n",
       "      <td>0</td>\n",
       "      <td>0</td>\n",
       "      <td>0</td>\n",
       "      <td>0</td>\n",
       "      <td>0</td>\n",
       "      <td>0</td>\n",
       "      <td>0</td>\n",
       "      <td>...</td>\n",
       "      <td>0</td>\n",
       "      <td>0</td>\n",
       "      <td>0</td>\n",
       "      <td>0</td>\n",
       "      <td>1</td>\n",
       "      <td>0</td>\n",
       "      <td>0</td>\n",
       "      <td>0</td>\n",
       "      <td>0</td>\n",
       "      <td>0</td>\n",
       "    </tr>\n",
       "    <tr>\n",
       "      <th>25191</th>\n",
       "      <td>0</td>\n",
       "      <td>tcp</td>\n",
       "      <td>0</td>\n",
       "      <td>0</td>\n",
       "      <td>0</td>\n",
       "      <td>0</td>\n",
       "      <td>0</td>\n",
       "      <td>0</td>\n",
       "      <td>0</td>\n",
       "      <td>0</td>\n",
       "      <td>...</td>\n",
       "      <td>0</td>\n",
       "      <td>0</td>\n",
       "      <td>0</td>\n",
       "      <td>0</td>\n",
       "      <td>1</td>\n",
       "      <td>0</td>\n",
       "      <td>0</td>\n",
       "      <td>0</td>\n",
       "      <td>0</td>\n",
       "      <td>0</td>\n",
       "    </tr>\n",
       "  </tbody>\n",
       "</table>\n",
       "<p>25192 rows × 117 columns</p>\n",
       "</div>"
      ],
      "text/plain": [
       "       duration protocol_type  src_bytes  dst_bytes  land  wrong_fragment  \\\n",
       "0             0           tcp        491          0     0               0   \n",
       "1             0           udp        146          0     0               0   \n",
       "2             0           tcp          0          0     0               0   \n",
       "3             0           tcp        232       8153     0               0   \n",
       "4             0           tcp        199        420     0               0   \n",
       "...         ...           ...        ...        ...   ...             ...   \n",
       "25187         0           tcp          0          0     0               0   \n",
       "25188         0           tcp        334          0     0               0   \n",
       "25189         0           tcp          0          0     0               0   \n",
       "25190         0           tcp          0          0     0               0   \n",
       "25191         0           tcp          0          0     0               0   \n",
       "\n",
       "       urgent  hot  num_failed_logins  logged_in  ...  REJ  RSTO  RSTOS0  \\\n",
       "0           0    0                  0          0  ...    0     0       0   \n",
       "1           0    0                  0          0  ...    0     0       0   \n",
       "2           0    0                  0          0  ...    0     0       0   \n",
       "3           0    0                  0          1  ...    0     0       0   \n",
       "4           0    0                  0          1  ...    0     0       0   \n",
       "...       ...  ...                ...        ...  ...  ...   ...     ...   \n",
       "25187       0    0                  0          0  ...    0     1       0   \n",
       "25188       0    0                  0          1  ...    0     0       0   \n",
       "25189       0    0                  0          0  ...    1     0       0   \n",
       "25190       0    0                  0          0  ...    0     0       0   \n",
       "25191       0    0                  0          0  ...    0     0       0   \n",
       "\n",
       "       RSTR  S0  S1  S2  S3  SF  SH  \n",
       "0         0   0   0   0   0   1   0  \n",
       "1         0   0   0   0   0   1   0  \n",
       "2         0   1   0   0   0   0   0  \n",
       "3         0   0   0   0   0   1   0  \n",
       "4         0   0   0   0   0   1   0  \n",
       "...     ...  ..  ..  ..  ..  ..  ..  \n",
       "25187     0   0   0   0   0   0   0  \n",
       "25188     0   0   0   0   0   1   0  \n",
       "25189     0   0   0   0   0   0   0  \n",
       "25190     0   1   0   0   0   0   0  \n",
       "25191     0   1   0   0   0   0   0  \n",
       "\n",
       "[25192 rows x 117 columns]"
      ]
     },
     "execution_count": 214,
     "metadata": {},
     "output_type": "execute_result"
    }
   ],
   "source": [
    "dfm"
   ]
  },
  {
   "cell_type": "code",
   "execution_count": 215,
   "metadata": {},
   "outputs": [],
   "source": [
    "bye = [\n",
    "    'duration',\n",
    "    'protocol_type',\n",
    "    'land',\n",
    "    'wrong_fragment',\n",
    "    'urgent',\n",
    "    'hot',\n",
    "    'num_failed_logins',\n",
    "    'num_compromised',\n",
    "    'root_shell',\n",
    "    'su_attempted',\n",
    "    'num_root',\n",
    "    'num_file_creations',\n",
    "    'num_shells',\n",
    "    'num_access_files',\n",
    "    'num_outbound_cmds',\n",
    "    'is_host_login',\n",
    "    'is_guest_login',\n",
    "    'class'\n",
    "]"
   ]
  },
  {
   "cell_type": "code",
   "execution_count": 216,
   "metadata": {},
   "outputs": [],
   "source": [
    "features = [f for f in dfm.columns if f not in bye]"
   ]
  },
  {
   "cell_type": "code",
   "execution_count": 217,
   "metadata": {},
   "outputs": [
    {
     "data": {
      "text/plain": [
       "['src_bytes',\n",
       " 'dst_bytes',\n",
       " 'logged_in',\n",
       " 'count',\n",
       " 'srv_count',\n",
       " 'serror_rate',\n",
       " 'srv_serror_rate',\n",
       " 'rerror_rate',\n",
       " 'srv_rerror_rate',\n",
       " 'same_srv_rate',\n",
       " 'diff_srv_rate',\n",
       " 'srv_diff_host_rate',\n",
       " 'dst_host_count',\n",
       " 'dst_host_srv_count',\n",
       " 'dst_host_same_srv_rate',\n",
       " 'dst_host_diff_srv_rate',\n",
       " 'dst_host_same_src_port_rate',\n",
       " 'dst_host_srv_diff_host_rate',\n",
       " 'dst_host_serror_rate',\n",
       " 'dst_host_srv_serror_rate',\n",
       " 'dst_host_rerror_rate',\n",
       " 'dst_host_srv_rerror_rate',\n",
       " 'IRC',\n",
       " 'X11',\n",
       " 'Z39_50',\n",
       " 'auth',\n",
       " 'bgp',\n",
       " 'courier',\n",
       " 'csnet_ns',\n",
       " 'ctf',\n",
       " 'daytime',\n",
       " 'discard',\n",
       " 'domain',\n",
       " 'domain_u',\n",
       " 'echo',\n",
       " 'eco_i',\n",
       " 'ecr_i',\n",
       " 'efs',\n",
       " 'exec',\n",
       " 'finger',\n",
       " 'ftp',\n",
       " 'ftp_data',\n",
       " 'gopher',\n",
       " 'hostnames',\n",
       " 'http',\n",
       " 'http_443',\n",
       " 'http_8001',\n",
       " 'imap4',\n",
       " 'iso_tsap',\n",
       " 'klogin',\n",
       " 'kshell',\n",
       " 'ldap',\n",
       " 'link',\n",
       " 'login',\n",
       " 'mtp',\n",
       " 'name',\n",
       " 'netbios_dgm',\n",
       " 'netbios_ns',\n",
       " 'netbios_ssn',\n",
       " 'netstat',\n",
       " 'nnsp',\n",
       " 'nntp',\n",
       " 'ntp_u',\n",
       " 'other',\n",
       " 'pm_dump',\n",
       " 'pop_2',\n",
       " 'pop_3',\n",
       " 'printer',\n",
       " 'private',\n",
       " 'red_i',\n",
       " 'remote_job',\n",
       " 'rje',\n",
       " 'shell',\n",
       " 'smtp',\n",
       " 'sql_net',\n",
       " 'ssh',\n",
       " 'sunrpc',\n",
       " 'supdup',\n",
       " 'systat',\n",
       " 'telnet',\n",
       " 'tim_i',\n",
       " 'time',\n",
       " 'urh_i',\n",
       " 'urp_i',\n",
       " 'uucp',\n",
       " 'uucp_path',\n",
       " 'vmnet',\n",
       " 'whois',\n",
       " 'OTH',\n",
       " 'REJ',\n",
       " 'RSTO',\n",
       " 'RSTOS0',\n",
       " 'RSTR',\n",
       " 'S0',\n",
       " 'S1',\n",
       " 'S2',\n",
       " 'S3',\n",
       " 'SF',\n",
       " 'SH']"
      ]
     },
     "execution_count": 217,
     "metadata": {},
     "output_type": "execute_result"
    }
   ],
   "source": [
    "features"
   ]
  },
  {
   "cell_type": "code",
   "execution_count": 218,
   "metadata": {},
   "outputs": [],
   "source": [
    "target = 'class'"
   ]
  },
  {
   "cell_type": "code",
   "execution_count": 219,
   "metadata": {},
   "outputs": [],
   "source": [
    "X = dfm[features]\n",
    "y = dfm[target]"
   ]
  },
  {
   "cell_type": "code",
   "execution_count": 220,
   "metadata": {},
   "outputs": [
    {
     "data": {
      "text/plain": [
       "(25192, 99)"
      ]
     },
     "execution_count": 220,
     "metadata": {},
     "output_type": "execute_result"
    }
   ],
   "source": [
    "X.shape"
   ]
  },
  {
   "cell_type": "code",
   "execution_count": 221,
   "metadata": {},
   "outputs": [
    {
     "data": {
      "text/plain": [
       "(25192,)"
      ]
     },
     "execution_count": 221,
     "metadata": {},
     "output_type": "execute_result"
    }
   ],
   "source": [
    "y.shape"
   ]
  },
  {
   "cell_type": "code",
   "execution_count": 262,
   "metadata": {},
   "outputs": [],
   "source": [
    "from sklearn.preprocessing import StandardScaler"
   ]
  },
  {
   "cell_type": "code",
   "execution_count": 263,
   "metadata": {},
   "outputs": [],
   "source": [
    "scaler = StandardScaler()\n",
    "\n",
    "X = scaler.fit_transform(X)"
   ]
  },
  {
   "cell_type": "code",
   "execution_count": 267,
   "metadata": {},
   "outputs": [],
   "source": [
    "encoding = {\n",
    "    'normal': 0,\n",
    "    'anomaly': 1\n",
    "}"
   ]
  },
  {
   "cell_type": "code",
   "execution_count": 268,
   "metadata": {},
   "outputs": [],
   "source": [
    "y = y.apply(lambda row: encoding[row])"
   ]
  },
  {
   "cell_type": "markdown",
   "metadata": {},
   "source": [
    "##### Train & test split"
   ]
  },
  {
   "cell_type": "code",
   "execution_count": 269,
   "metadata": {},
   "outputs": [],
   "source": [
    "from sklearn.model_selection import train_test_split\n",
    "from sklearn import metrics"
   ]
  },
  {
   "cell_type": "code",
   "execution_count": 270,
   "metadata": {},
   "outputs": [],
   "source": [
    "test_ratio = 0.3"
   ]
  },
  {
   "cell_type": "code",
   "execution_count": 271,
   "metadata": {},
   "outputs": [],
   "source": [
    "X_train, X_test, y_train, y_test = train_test_split(X, y, test_size=test_ratio)"
   ]
  },
  {
   "cell_type": "markdown",
   "metadata": {},
   "source": [
    "##### PCA"
   ]
  },
  {
   "cell_type": "code",
   "execution_count": 272,
   "metadata": {},
   "outputs": [],
   "source": [
    "from sklearn.decomposition import PCA\n",
    "\n",
    "n_components = 99\n",
    "whiten = False\n",
    "random_state = 777\n",
    "\n",
    "pca = PCA(n_components = n_components, whiten=whiten, random_state=random_state)"
   ]
  },
  {
   "cell_type": "code",
   "execution_count": 273,
   "metadata": {},
   "outputs": [],
   "source": [
    "x_train_pca = pca.fit_transform(X_train)\n",
    "x_train_pca = pd.DataFrame(data = x_train_pca)\n",
    "\n",
    "x_test_pca = pca.fit_transform(X_test)\n",
    "x_test_pca = pd.DataFrame(data = x_test_pca)"
   ]
  },
  {
   "cell_type": "code",
   "execution_count": 274,
   "metadata": {},
   "outputs": [
    {
     "name": "stdout",
     "output_type": "stream",
     "text": [
      "Varianza de los 99 componentes:  0.9999999999999996\n"
     ]
    }
   ],
   "source": [
    "print(\"Varianza de los 99 componentes: \", sum(pca.explained_variance_ratio_))"
   ]
  },
  {
   "cell_type": "markdown",
   "metadata": {},
   "source": [
    "### Modelos"
   ]
  },
  {
   "cell_type": "code",
   "execution_count": 275,
   "metadata": {},
   "outputs": [],
   "source": [
    "from sklearn import svm"
   ]
  },
  {
   "cell_type": "code",
   "execution_count": 276,
   "metadata": {},
   "outputs": [],
   "source": [
    "svm_model = svm.SVC(\n",
    "    probability=True,\n",
    "    kernel=\"rbf\",\n",
    "    verbose=True\n",
    ")"
   ]
  },
  {
   "cell_type": "code",
   "execution_count": 277,
   "metadata": {},
   "outputs": [
    {
     "name": "stdout",
     "output_type": "stream",
     "text": [
      "[LibSVM]"
     ]
    },
    {
     "data": {
      "text/plain": [
       "SVC(probability=True, verbose=True)"
      ]
     },
     "execution_count": 277,
     "metadata": {},
     "output_type": "execute_result"
    }
   ],
   "source": [
    "svm_model.fit(X_train, y_train)"
   ]
  },
  {
   "cell_type": "code",
   "execution_count": 278,
   "metadata": {},
   "outputs": [],
   "source": [
    "svm_pred = svm_model.predict(X_test)"
   ]
  },
  {
   "cell_type": "code",
   "execution_count": 279,
   "metadata": {},
   "outputs": [
    {
     "data": {
      "text/plain": [
       "0.9813442709711564"
      ]
     },
     "execution_count": 279,
     "metadata": {},
     "output_type": "execute_result"
    }
   ],
   "source": [
    "accuracy = metrics.accuracy_score(y_test, svm_pred)\n",
    "accuracy"
   ]
  },
  {
   "cell_type": "code",
   "execution_count": 280,
   "metadata": {},
   "outputs": [
    {
     "data": {
      "text/plain": [
       "array([[3991,   38],\n",
       "       [ 103, 3426]], dtype=int64)"
      ]
     },
     "execution_count": 280,
     "metadata": {},
     "output_type": "execute_result"
    }
   ],
   "source": [
    "confusion_matrix = metrics.confusion_matrix(y_test, svm_pred)\n",
    "confusion_matrix"
   ]
  },
  {
   "cell_type": "code",
   "execution_count": 281,
   "metadata": {},
   "outputs": [
    {
     "name": "stdout",
     "output_type": "stream",
     "text": [
      "              precision    recall  f1-score   support\n",
      "\n",
      "           0       0.97      0.99      0.98      4029\n",
      "           1       0.99      0.97      0.98      3529\n",
      "\n",
      "    accuracy                           0.98      7558\n",
      "   macro avg       0.98      0.98      0.98      7558\n",
      "weighted avg       0.98      0.98      0.98      7558\n",
      "\n"
     ]
    }
   ],
   "source": [
    "print(metrics.classification_report(y_test, svm_pred))"
   ]
  },
  {
   "cell_type": "code",
   "execution_count": 282,
   "metadata": {},
   "outputs": [
    {
     "name": "stdout",
     "output_type": "stream",
     "text": [
      "[LibSVM]"
     ]
    },
    {
     "data": {
      "text/plain": [
       "SVC(probability=True, verbose=True)"
      ]
     },
     "execution_count": 282,
     "metadata": {},
     "output_type": "execute_result"
    }
   ],
   "source": [
    "svm_model.fit(x_train_pca, y_train)"
   ]
  },
  {
   "cell_type": "code",
   "execution_count": 283,
   "metadata": {},
   "outputs": [],
   "source": [
    "svm_pred = svm_model.predict(x_test_pca)"
   ]
  },
  {
   "cell_type": "code",
   "execution_count": 284,
   "metadata": {},
   "outputs": [
    {
     "data": {
      "text/plain": [
       "0.8855517332627679"
      ]
     },
     "execution_count": 284,
     "metadata": {},
     "output_type": "execute_result"
    }
   ],
   "source": [
    "accuracy = metrics.accuracy_score(y_test, svm_pred)\n",
    "accuracy"
   ]
  },
  {
   "cell_type": "code",
   "execution_count": 285,
   "metadata": {},
   "outputs": [
    {
     "data": {
      "text/plain": [
       "array([[3735,  294],\n",
       "       [ 571, 2958]], dtype=int64)"
      ]
     },
     "execution_count": 285,
     "metadata": {},
     "output_type": "execute_result"
    }
   ],
   "source": [
    "confusion_matrix = metrics.confusion_matrix(y_test, svm_pred)\n",
    "confusion_matrix"
   ]
  },
  {
   "cell_type": "code",
   "execution_count": 286,
   "metadata": {},
   "outputs": [
    {
     "name": "stdout",
     "output_type": "stream",
     "text": [
      "              precision    recall  f1-score   support\n",
      "\n",
      "           0       0.87      0.93      0.90      4029\n",
      "           1       0.91      0.84      0.87      3529\n",
      "\n",
      "    accuracy                           0.89      7558\n",
      "   macro avg       0.89      0.88      0.88      7558\n",
      "weighted avg       0.89      0.89      0.89      7558\n",
      "\n"
     ]
    }
   ],
   "source": [
    "print(metrics.classification_report(y_test, svm_pred))"
   ]
  }
 ],
 "metadata": {
  "colab": {
   "name": "Análisis de paquetes.ipynb",
   "provenance": []
  },
  "kernelspec": {
   "display_name": "Python 3 (ipykernel)",
   "language": "python",
   "name": "python3"
  },
  "language_info": {
   "codemirror_mode": {
    "name": "ipython",
    "version": 3
   },
   "file_extension": ".py",
   "mimetype": "text/x-python",
   "name": "python",
   "nbconvert_exporter": "python",
   "pygments_lexer": "ipython3",
   "version": "3.8.10"
  }
 },
 "nbformat": 4,
 "nbformat_minor": 1
}
