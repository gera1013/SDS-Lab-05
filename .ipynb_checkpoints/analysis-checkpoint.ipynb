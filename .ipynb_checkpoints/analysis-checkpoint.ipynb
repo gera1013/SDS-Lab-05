{
 "cells": [
  {
   "cell_type": "code",
   "execution_count": 1,
   "metadata": {
    "id": "8TrBXp14pv54"
   },
   "outputs": [],
   "source": [
    "# network\n",
    "from scapy.all import *\n",
    "\n",
    "# math\n",
    "import numpy as np\n",
    "import pandas as pd\n",
    "import seaborn as sns\n",
    "\n",
    "# binary to ascii\n",
    "import binascii\n",
    "\n",
    "# graphs\n",
    "sns.set(color_codes=True)\n",
    "%matplotlib inline"
   ]
  },
  {
   "cell_type": "markdown",
   "metadata": {
    "id": "Z-HBMA7ep50R"
   },
   "source": [
    "Captura de 10 paquetes"
   ]
  },
  {
   "cell_type": "code",
   "execution_count": 2,
   "metadata": {
    "colab": {
     "base_uri": "https://localhost:8080/"
    },
    "id": "CFGBX16-p0SZ",
    "outputId": "3b196156-2772-41e5-e478-b37e6c5cd99f"
   },
   "outputs": [
    {
     "name": "stdout",
     "output_type": "stream",
     "text": [
      "<class 'scapy.plist.PacketList'>\n",
      "100\n",
      "<Sniffed: TCP:86 UDP:11 ICMP:0 Other:3>\n"
     ]
    },
    {
     "data": {
      "text/plain": [
       "<Ether  dst=00:09:0f:09:00:22 src=bc:a8:a6:dd:27:f0 type=IPv4 |<IP  version=4 ihl=5 tos=0x0 len=41 id=15448 flags=DF frag=0 ttl=128 proto=tcp chksum=0x36a4 src=192.168.145.105 dst=5.62.48.131 |<TCP  sport=2346 dport=https seq=2414434862 ack=761106430 dataofs=5 reserved=0 flags=A window=256 chksum=0x74a8 urgptr=0 |<Raw  load='\\x00' |>>>>"
      ]
     },
     "execution_count": 2,
     "metadata": {},
     "output_type": "execute_result"
    }
   ],
   "source": [
    "num_of_packets_to_sniff = 100\n",
    "pcap = sniff(count=num_of_packets_to_sniff)\n",
    "\n",
    "print(type(pcap))\n",
    "print(len(pcap))\n",
    "print(pcap)\n",
    "pcap[0]"
   ]
  },
  {
   "cell_type": "code",
   "execution_count": 8,
   "metadata": {},
   "outputs": [
    {
     "name": "stdout",
     "output_type": "stream",
     "text": [
      "<class 'scapy.plist.PacketList'>\n",
      "62\n",
      "<analisis_paquetes.pcap: TCP:0 UDP:62 ICMP:0 Other:0>\n"
     ]
    },
    {
     "data": {
      "text/plain": [
       "<Ether  dst=88:e9:fe:6a:92:52 src=80:37:73:96:9b:db type=IPv4 |<IP  version=4 ihl=5 tos=0x20 len=84 id=58919 flags= frag=0 ttl=122 proto=udp chksum=0x360c src=84.54.22.33 dst=10.1.10.53 |<UDP  sport=domain dport=domain len=64 chksum=0xfe25 |<DNS  id=12 qr=1 opcode=QUERY aa=0 tc=0 rd=1 ra=1 z=0 ad=0 cd=0 rcode=ok qdcount=1 ancount=1 nscount=0 arcount=0 qd=<DNSQR  qname='google.com.' qtype=AAAA qclass=IN |> an=<DNSRR  rrname='google.com.' type=AAAA rclass=IN ttl=299 rdlen=None rdata=2607:f8b0:4005:807::200e |> ns=None ar=None |>>>>"
      ]
     },
     "execution_count": 8,
     "metadata": {},
     "output_type": "execute_result"
    }
   ],
   "source": [
    "file = rdpcap(\"analisis_paquetes.pcap\")\n",
    "\n",
    "print(type(file))\n",
    "print(len(file))\n",
    "print(file)\n",
    "file[1]"
   ]
  },
  {
   "cell_type": "code",
   "execution_count": 20,
   "metadata": {},
   "outputs": [
    {
     "name": "stdout",
     "output_type": "stream",
     "text": [
      "<class 'scapy.plist.PacketList'>\n",
      "162\n",
      "<Sniffed+analisis_paquetes.pcap: TCP:86 UDP:73 ICMP:0 Other:3>\n"
     ]
    },
    {
     "data": {
      "text/plain": [
       "<Ether  dst=bc:a8:a6:dd:27:f0 src=00:09:0f:09:00:22 type=IPv4 |<IP  version=4 ihl=5 tos=0x0 len=40 id=56844 flags=DF frag=0 ttl=51 proto=tcp chksum=0xe1f0 src=5.62.48.131 dst=192.168.145.105 |<TCP  sport=https dport=2346 seq=761106430 ack=2414434863 dataofs=5 reserved=0 flags=A window=284 chksum=0x748c urgptr=0 |<Padding  load='\\x00\\x00\\x00\\x00\\x00\\x00' |>>>>"
      ]
     },
     "execution_count": 20,
     "metadata": {},
     "output_type": "execute_result"
    }
   ],
   "source": [
    "## juntamos ambas listas\n",
    "final_pcap = pcap + file\n",
    "print(type(final_pcap))\n",
    "print(len(final_pcap))\n",
    "print(final_pcap)\n",
    "final_pcap[1]"
   ]
  },
  {
   "cell_type": "markdown",
   "metadata": {
    "id": "tcOQYhxiqy7L"
   },
   "source": [
    "Exploración"
   ]
  },
  {
   "cell_type": "code",
   "execution_count": 21,
   "metadata": {
    "colab": {
     "base_uri": "https://localhost:8080/"
    },
    "id": "6V_p1aruq4d4",
    "outputId": "f03f1417-7015-469d-b69c-783411437201"
   },
   "outputs": [
    {
     "name": "stdout",
     "output_type": "stream",
     "text": [
      "Informacion del frame:\n",
      "Ether / IP / TCP 192.168.145.105:2346 > 5.62.48.131:https A / Raw\n",
      "Informacion del paquete:\n",
      "IP / TCP 192.168.145.105:2346 > 5.62.48.131:https A / Raw\n",
      "Informacion del segmento:\n",
      "TCP 192.168.145.105:2346 > 5.62.48.131:https A / Raw\n",
      "Data:\n",
      "Raw\n",
      "###[ Ethernet ]### \n",
      "  dst       = 00:09:0f:09:00:22\n",
      "  src       = bc:a8:a6:dd:27:f0\n",
      "  type      = IPv4\n",
      "###[ IP ]### \n",
      "     version   = 4\n",
      "     ihl       = 5\n",
      "     tos       = 0x0\n",
      "     len       = 41\n",
      "     id        = 15448\n",
      "     flags     = DF\n",
      "     frag      = 0\n",
      "     ttl       = 128\n",
      "     proto     = tcp\n",
      "     chksum    = 0x36a4\n",
      "     src       = 192.168.145.105\n",
      "     dst       = 5.62.48.131\n",
      "     \\options   \\\n",
      "###[ TCP ]### \n",
      "        sport     = 2346\n",
      "        dport     = https\n",
      "        seq       = 2414434862\n",
      "        ack       = 761106430\n",
      "        dataofs   = 5\n",
      "        reserved  = 0\n",
      "        flags     = A\n",
      "        window    = 256\n",
      "        chksum    = 0x74a8\n",
      "        urgptr    = 0\n",
      "        options   = []\n",
      "###[ Raw ]### \n",
      "           load      = '\\x00'\n",
      "\n",
      "###[ Raw ]### \n",
      "  load      = '\\x00'\n",
      "\n"
     ]
    }
   ],
   "source": [
    "#Recordemos que en los modelos de red, las capas inferiores encapsulan la información de las capas superiores\n",
    "#Frames en paquetes, paquetes en segmentos (Ethernet, IP), modelo TCP/IP\n",
    "\n",
    "ethernet_frame = final_pcap[0]\n",
    "ip_packet = ethernet_frame.payload\n",
    "segment = ip_packet.payload\n",
    "data = segment.payload #recupera la informacion de la capa 4\n",
    "\n",
    "print(\"Informacion del frame:\")\n",
    "print(ethernet_frame.summary())\n",
    "\n",
    "print(\"Informacion del paquete:\")\n",
    "print(ip_packet.summary())\n",
    "\n",
    "print(\"Informacion del segmento:\")\n",
    "print(segment.summary())\n",
    "\n",
    "print(\"Data:\")\n",
    "print(data.summary())\n",
    "\n",
    "ethernet_frame.show()\n",
    "data.show()"
   ]
  },
  {
   "cell_type": "markdown",
   "metadata": {
    "id": "B7VfYOxJsq1Y"
   },
   "source": [
    "Tipos de datos en Scapy"
   ]
  },
  {
   "cell_type": "code",
   "execution_count": 22,
   "metadata": {
    "colab": {
     "base_uri": "https://localhost:8080/"
    },
    "id": "ll1ixX5KspSd",
    "outputId": "9d46481b-4b37-4c66-b69a-7e28921017f0"
   },
   "outputs": [
    {
     "name": "stdout",
     "output_type": "stream",
     "text": [
      "<class 'scapy.layers.l2.Ether'>\n",
      "<class 'scapy.layers.inet.IP'>\n",
      "<class 'scapy.layers.inet.TCP'>\n",
      "Ethernet <Ether from Sniffed+analisis_paquetes.pcap: TCP:86 UDP:73 ICMP:0 Other:3>\n",
      "IP <IP from Sniffed+analisis_paquetes.pcap: TCP:86 UDP:73 ICMP:0 Other:0>\n",
      "TCP <TCP from Sniffed+analisis_paquetes.pcap: TCP:86 UDP:0 ICMP:0 Other:0>\n",
      "UDP <UDP from Sniffed+analisis_paquetes.pcap: TCP:0 UDP:73 ICMP:0 Other:0>\n"
     ]
    }
   ],
   "source": [
    "print(type(ethernet_frame))\n",
    "print(type(ip_packet))\n",
    "print(type(segment))\n",
    "\n",
    "# Packets can be filtered on layers ie) ethernet_frame[scapy.layers.l2.Ether]\n",
    "ethernet_type = type(ethernet_frame)\n",
    "ip_type = type(ip_packet)\n",
    "tcp_type = type(segment)\n",
    "print(\"Ethernet\", final_pcap[ethernet_type])\n",
    "print(\"IP\", final_pcap[ip_type])\n",
    "print(\"TCP\", final_pcap[tcp_type])\n",
    "\n",
    "# Scapy provides this via import statements\n",
    "from scapy.layers.l2 import Ether\n",
    "from scapy.layers.inet import IP\n",
    "from scapy.layers.inet import TCP, UDP\n",
    "\n",
    "print(\"UDP\", final_pcap[UDP])"
   ]
  },
  {
   "cell_type": "markdown",
   "metadata": {
    "id": "ioVnNkvRthYL"
   },
   "source": [
    "Conversion de PCAP a DF"
   ]
  },
  {
   "cell_type": "code",
   "execution_count": 23,
   "metadata": {
    "colab": {
     "base_uri": "https://localhost:8080/"
    },
    "id": "H50zKfyhtkck",
    "outputId": "135dd4af-36b9-4e0a-df68-6e0f8a2dc9c9"
   },
   "outputs": [
    {
     "name": "stdout",
     "output_type": "stream",
     "text": [
      "  version ihl tos len     id flags frag  ttl proto chksum  ... dataofs  \\\n",
      "0       4   5   0  41  15448    DF    0  128     6  13988  ...       5   \n",
      "1       4   5   0  40  56844    DF    0   51     6  57840  ...       5   \n",
      "2       4   5   0  86  48110    DF    0  128     6  22202  ...       5   \n",
      "3       4   5   0  86  17896    DF    0  225     6  27584  ...       5   \n",
      "4       4   5   0  40  48111    DF    0  128     6  22247  ...       5   \n",
      "\n",
      "  reserved flags window chksum urgptr options payload  \\\n",
      "0        0     A    256  29864      0       0       1   \n",
      "1        0     A    284  29836      0    None       6   \n",
      "2        0    PA    255  35746      0       0      46   \n",
      "3        0    PA    768  21538      0       0      46   \n",
      "4        0     A    255  61196      0    None       0   \n",
      "\n",
      "                                         payload_raw  \\\n",
      "0                                            b'\\x00'   \n",
      "1                        b'\\x00\\x00\\x00\\x00\\x00\\x00'   \n",
      "2  b'\\x17\\x03\\x03\\x00)\\xc1\\xdbG\\x0e\\x14\\x90\\xf5\\x...   \n",
      "3  b'\\x17\\x03\\x03\\x00)\\xf4\\xb7#\\x9a\\x98\\x99\\xcc\\x...   \n",
      "4                                                b''   \n",
      "\n",
      "                                         payload_hex  \n",
      "0                                              b'00'  \n",
      "1                                    b'000000000000'  \n",
      "2  b'1703030029c1db470e1490f5b9353265babafdc09ae4...  \n",
      "3  b'1703030029f4b7239a9899cce4ea49dd692e4c747f5b...  \n",
      "4                                                b''  \n",
      "\n",
      "[5 rows x 28 columns]\n"
     ]
    }
   ],
   "source": [
    "ip_fields = [field.name for field in IP().fields_desc]\n",
    "tcp_fields = [field.name for field in TCP().fields_desc]\n",
    "udp_fields = [field.name for field in UDP().fields_desc]\n",
    "\n",
    "dataframe_fields = ip_fields + ['time'] + tcp_fields + ['payload','payload_raw','payload_hex']\n",
    "\n",
    "df = pd.DataFrame(columns=dataframe_fields)\n",
    "\n",
    "for packet in final_pcap[IP]:\n",
    "    # Obtenemos los valores de los campos de cada fila\n",
    "    field_values = []\n",
    "    # A;adimos todos los valores de los campos de IP al df\n",
    "    for field in ip_fields:\n",
    "        if field == 'options':\n",
    "            # Obtenemos el numero de opciones del IP Header\n",
    "            field_values.append(len(packet[IP].fields[field]))\n",
    "        else:\n",
    "            field_values.append(packet[IP].fields[field])\n",
    "    \n",
    "    field_values.append(packet.time)\n",
    "    \n",
    "    layer_type = type(packet[IP].payload)\n",
    "    for field in tcp_fields:\n",
    "        try:\n",
    "            if field == 'options':\n",
    "                field_values.append(len(packet[layer_type].fields[field]))\n",
    "            else:\n",
    "                field_values.append(packet[layer_type].fields[field])\n",
    "        except:\n",
    "            field_values.append(None)\n",
    "    \n",
    "    # Agregamos el payload\n",
    "    field_values.append(len(packet[layer_type].payload))\n",
    "    field_values.append(packet[layer_type].payload.original)\n",
    "    field_values.append(binascii.hexlify(packet[layer_type].payload.original))\n",
    "    # Agregamos la fila al df\n",
    "    df_append = pd.DataFrame([field_values], columns=dataframe_fields)\n",
    "    df = pd.concat([df, df_append], axis=0)\n",
    "\n",
    "# Reset Index\n",
    "df = df.reset_index()\n",
    "# Drop old index column\n",
    "df = df.drop(columns=\"index\")\n",
    "\n",
    "print(df.head(5))"
   ]
  },
  {
   "cell_type": "code",
   "execution_count": 24,
   "metadata": {},
   "outputs": [
    {
     "data": {
      "text/plain": [
       "159"
      ]
     },
     "execution_count": 24,
     "metadata": {},
     "output_type": "execute_result"
    }
   ],
   "source": [
    "## tamaño del dataframe\n",
    "len(df)"
   ]
  },
  {
   "cell_type": "code",
   "execution_count": 25,
   "metadata": {
    "colab": {
     "base_uri": "https://localhost:8080/",
     "height": 363
    },
    "id": "LqqOTjHmzcpJ",
    "outputId": "f424cc4c-df1b-4820-a285-4ca749ed1e0e"
   },
   "outputs": [
    {
     "data": {
      "text/html": [
       "<div>\n",
       "<style scoped>\n",
       "    .dataframe tbody tr th:only-of-type {\n",
       "        vertical-align: middle;\n",
       "    }\n",
       "\n",
       "    .dataframe tbody tr th {\n",
       "        vertical-align: top;\n",
       "    }\n",
       "\n",
       "    .dataframe thead th {\n",
       "        text-align: right;\n",
       "    }\n",
       "</style>\n",
       "<table border=\"1\" class=\"dataframe\">\n",
       "  <thead>\n",
       "    <tr style=\"text-align: right;\">\n",
       "      <th></th>\n",
       "      <th>src</th>\n",
       "      <th>dst</th>\n",
       "      <th>sport</th>\n",
       "      <th>dport</th>\n",
       "    </tr>\n",
       "  </thead>\n",
       "  <tbody>\n",
       "    <tr>\n",
       "      <th>0</th>\n",
       "      <td>192.168.145.105</td>\n",
       "      <td>5.62.48.131</td>\n",
       "      <td>2346</td>\n",
       "      <td>443</td>\n",
       "    </tr>\n",
       "    <tr>\n",
       "      <th>1</th>\n",
       "      <td>5.62.48.131</td>\n",
       "      <td>192.168.145.105</td>\n",
       "      <td>443</td>\n",
       "      <td>2346</td>\n",
       "    </tr>\n",
       "    <tr>\n",
       "      <th>2</th>\n",
       "      <td>192.168.145.105</td>\n",
       "      <td>54.236.94.251</td>\n",
       "      <td>1153</td>\n",
       "      <td>443</td>\n",
       "    </tr>\n",
       "    <tr>\n",
       "      <th>3</th>\n",
       "      <td>54.236.94.251</td>\n",
       "      <td>192.168.145.105</td>\n",
       "      <td>443</td>\n",
       "      <td>1153</td>\n",
       "    </tr>\n",
       "    <tr>\n",
       "      <th>4</th>\n",
       "      <td>192.168.145.105</td>\n",
       "      <td>54.236.94.251</td>\n",
       "      <td>1153</td>\n",
       "      <td>443</td>\n",
       "    </tr>\n",
       "    <tr>\n",
       "      <th>...</th>\n",
       "      <td>...</td>\n",
       "      <td>...</td>\n",
       "      <td>...</td>\n",
       "      <td>...</td>\n",
       "    </tr>\n",
       "    <tr>\n",
       "      <th>154</th>\n",
       "      <td>84.54.22.33</td>\n",
       "      <td>10.1.10.53</td>\n",
       "      <td>53</td>\n",
       "      <td>53</td>\n",
       "    </tr>\n",
       "    <tr>\n",
       "      <th>155</th>\n",
       "      <td>10.1.10.53</td>\n",
       "      <td>84.54.22.33</td>\n",
       "      <td>53</td>\n",
       "      <td>53</td>\n",
       "    </tr>\n",
       "    <tr>\n",
       "      <th>156</th>\n",
       "      <td>84.54.22.33</td>\n",
       "      <td>10.1.10.53</td>\n",
       "      <td>53</td>\n",
       "      <td>53</td>\n",
       "    </tr>\n",
       "    <tr>\n",
       "      <th>157</th>\n",
       "      <td>10.1.10.53</td>\n",
       "      <td>84.54.22.33</td>\n",
       "      <td>53</td>\n",
       "      <td>53</td>\n",
       "    </tr>\n",
       "    <tr>\n",
       "      <th>158</th>\n",
       "      <td>84.54.22.33</td>\n",
       "      <td>10.1.10.53</td>\n",
       "      <td>53</td>\n",
       "      <td>53</td>\n",
       "    </tr>\n",
       "  </tbody>\n",
       "</table>\n",
       "<p>159 rows × 4 columns</p>\n",
       "</div>"
      ],
      "text/plain": [
       "                 src              dst sport dport\n",
       "0    192.168.145.105      5.62.48.131  2346   443\n",
       "1        5.62.48.131  192.168.145.105   443  2346\n",
       "2    192.168.145.105    54.236.94.251  1153   443\n",
       "3      54.236.94.251  192.168.145.105   443  1153\n",
       "4    192.168.145.105    54.236.94.251  1153   443\n",
       "..               ...              ...   ...   ...\n",
       "154      84.54.22.33       10.1.10.53    53    53\n",
       "155       10.1.10.53      84.54.22.33    53    53\n",
       "156      84.54.22.33       10.1.10.53    53    53\n",
       "157       10.1.10.53      84.54.22.33    53    53\n",
       "158      84.54.22.33       10.1.10.53    53    53\n",
       "\n",
       "[159 rows x 4 columns]"
      ]
     },
     "execution_count": 25,
     "metadata": {},
     "output_type": "execute_result"
    }
   ],
   "source": [
    "# Return Src Address, Dst Address, Src Port, Dst Port\n",
    "df[['src','dst','sport','dport']]"
   ]
  },
  {
   "cell_type": "code",
   "execution_count": 30,
   "metadata": {
    "colab": {
     "base_uri": "https://localhost:8080/"
    },
    "id": "rG6Pfp_VzfUe",
    "outputId": "709af016-65bc-496b-8fa1-334a46830c12"
   },
   "outputs": [
    {
     "name": "stdout",
     "output_type": "stream",
     "text": [
      "IP MÁS FRECUENTE\n",
      "count                 159\n",
      "unique                 14\n",
      "top       192.168.145.105\n",
      "freq                   50\n",
      "Name: src, dtype: object \n",
      "\n",
      "\n"
     ]
    }
   ],
   "source": [
    "#Calcular estadisticas\n",
    "print(\"IP MÁS FRECUENTE\")\n",
    "print(df['src'].describe(),'\\n\\n')"
   ]
  },
  {
   "cell_type": "code",
   "execution_count": 31,
   "metadata": {
    "colab": {
     "base_uri": "https://localhost:8080/"
    },
    "id": "e1kc8Mzf_uZl",
    "outputId": "9b0400e0-be07-4951-dcae-23531167651e"
   },
   "outputs": [
    {
     "name": "stdout",
     "output_type": "stream",
     "text": [
      "SE COMUNICA FRECUENTEMENTE CON: \n",
      "  ->  5.62.48.131\n",
      "  ->  54.236.94.251\n",
      "  ->  140.82.112.26\n",
      "  ->  52.70.193.0\n",
      "  ->  107.20.160.43\n",
      "  ->  52.226.139.185\n",
      "  ->  185.199.108.133\n",
      "  ->  140.82.113.25\n",
      "  ->  69.94.68.55\n"
     ]
    }
   ],
   "source": [
    "frequent_address = df['src'].describe()['top']\n",
    "\n",
    "\n",
    "print(\"SE COMUNICA FRECUENTEMENTE CON: \")\n",
    "for add in df[df['src'] == frequent_address]['dst'].unique():\n",
    "    print(\"  -> \", add)"
   ]
  },
  {
   "cell_type": "code",
   "execution_count": null,
   "metadata": {},
   "outputs": [],
   "source": []
  }
 ],
 "metadata": {
  "colab": {
   "name": "Análisis de paquetes.ipynb",
   "provenance": []
  },
  "kernelspec": {
   "display_name": "Python 3 (ipykernel)",
   "language": "python",
   "name": "python3"
  },
  "language_info": {
   "codemirror_mode": {
    "name": "ipython",
    "version": 3
   },
   "file_extension": ".py",
   "mimetype": "text/x-python",
   "name": "python",
   "nbconvert_exporter": "python",
   "pygments_lexer": "ipython3",
   "version": "3.8.10"
  }
 },
 "nbformat": 4,
 "nbformat_minor": 1
}
